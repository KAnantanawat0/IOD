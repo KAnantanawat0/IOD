{
 "cells": [
  {
   "cell_type": "markdown",
   "metadata": {
    "id": "emj1GNgIT3CB"
   },
   "source": [
    "<div>\n",
    "<img src=https://www.institutedata.com/wp-content/uploads/2019/10/iod_h_tp_primary_c.svg width=\"300\">\n",
    "</div>"
   ]
  },
  {
   "cell_type": "markdown",
   "metadata": {
    "id": "FvN6xzeyT3CC"
   },
   "source": [
    "1. Compute the scalar product of two vectors\n",
    "\n",
    "> In mathematics, the dot product or scalar product is an algebraic operation that takes two equal-length sequences of numbers (usually coordinate vectors) and returns a single number.\n",
    "\n",
    "> we can calculate it this way:\n",
    "\n",
    "        a · b = ax × bx + ay × by\n",
    "        \n",
    "Hint: [Dot Product](https://www.mathsisfun.com/algebra/vectors-dot-product.html)"
   ]
  },
  {
   "cell_type": "code",
   "execution_count": 1,
   "metadata": {
    "ExecuteTime": {
     "end_time": "2019-06-27T03:58:34.200170Z",
     "start_time": "2019-06-27T03:58:34.196182Z"
    },
    "executionInfo": {
     "elapsed": 2,
     "status": "ok",
     "timestamp": 1692156749200,
     "user": {
      "displayName": "Gaio Bardelle",
      "userId": "06007511880601897268"
     },
     "user_tz": -720
    },
    "id": "JkwM7G3IT3CD"
   },
   "outputs": [],
   "source": [
    "import numpy as np"
   ]
  },
  {
   "cell_type": "code",
   "execution_count": 2,
   "metadata": {
    "ExecuteTime": {
     "end_time": "2019-06-27T04:56:56.317427Z",
     "start_time": "2019-06-27T04:56:56.313425Z"
    },
    "id": "rsOPN02pT3CG"
   },
   "outputs": [],
   "source": [
    "a = [-12, 16]\n",
    "b = [12, 9]"
   ]
  },
  {
   "cell_type": "code",
   "execution_count": 5,
   "metadata": {
    "id": "imtohvp_ZrIc"
   },
   "outputs": [
    {
     "data": {
      "text/plain": [
       "0"
      ]
     },
     "execution_count": 5,
     "metadata": {},
     "output_type": "execute_result"
    }
   ],
   "source": [
    "#answer:\n",
    "np.dot(a,b)"
   ]
  },
  {
   "cell_type": "markdown",
   "metadata": {
    "id": "2M2dKNL-T3CL"
   },
   "source": [
    "2. Compute the Hadamard product (entry-wise multiplication) of two vectors.\n",
    "\n",
    "> In mathematics, the Hadamard product (also known as the Schur product[1] or the entrywise product[2]:ch. 5) is a binary operation that takes two matrices of the same dimensions and produces another matrix of the same dimension as the operands where each element i, j is the product of elements i, j of the original two matrices. It should not be confused with the more common matrix product. It is attributed to, and named after, either French mathematician Jacques Hadamard or German mathematician Issai Schur. [Wiki](https://en.wikipedia.org/wiki/Hadamard_product_(matrices))\n",
    "\n",
    "![](https://wikimedia.org/api/rest_v1/media/math/render/svg/4eb9bb54b2820fb3583901ec05bc4b474b6d90bc)"
   ]
  },
  {
   "cell_type": "code",
   "execution_count": 6,
   "metadata": {
    "ExecuteTime": {
     "end_time": "2019-06-27T04:57:06.480263Z",
     "start_time": "2019-06-27T04:57:06.474279Z"
    },
    "id": "WnDQY9MyT3CM"
   },
   "outputs": [],
   "source": [
    "a = np.array([[1,2],[3,4]])\n",
    "b = np.array([[5,6],[7,8]])"
   ]
  },
  {
   "cell_type": "code",
   "execution_count": 9,
   "metadata": {
    "id": "mBergFdmZrIc"
   },
   "outputs": [
    {
     "data": {
      "text/plain": [
       "array([[ 5, 12],\n",
       "       [21, 32]])"
      ]
     },
     "execution_count": 9,
     "metadata": {},
     "output_type": "execute_result"
    }
   ],
   "source": [
    "#answer:\n",
    "np.multiply(a,b)"
   ]
  },
  {
   "cell_type": "code",
   "execution_count": null,
   "metadata": {
    "id": "rXP4sJEA-Y9K"
   },
   "outputs": [],
   "source": [
    "#desired output:\n",
    "# np.array([[5,12],[21,32]])"
   ]
  },
  {
   "cell_type": "markdown",
   "metadata": {
    "id": "b1ZR2J8HT3CO"
   },
   "source": [
    "3. Compute the sum of two matrices.\n",
    "\n",
    "![](https://wikimedia.org/api/rest_v1/media/math/render/svg/0fb7845af355c550d44020e52699069c044126a9)"
   ]
  },
  {
   "cell_type": "code",
   "execution_count": 11,
   "metadata": {
    "ExecuteTime": {
     "end_time": "2019-06-27T04:57:13.225605Z",
     "start_time": "2019-06-27T04:57:13.214634Z"
    },
    "id": "ulBVhGDET3CP"
   },
   "outputs": [],
   "source": [
    "# Add two matrices using a nested loop\n",
    "\n",
    "X = [[1,2,3],\n",
    "    [4,5,6],\n",
    "    [7,8,9]]\n",
    "\n",
    "Y = [[2,3,7],\n",
    "    [1,4,9],\n",
    "    [3,2,3]]"
   ]
  },
  {
   "cell_type": "code",
   "execution_count": 46,
   "metadata": {
    "id": "ZeLJp3ZGZrId"
   },
   "outputs": [
    {
     "name": "stdout",
     "output_type": "stream",
     "text": [
      "[[3, 5, 10], [5, 9, 15], [10, 10, 12]]\n"
     ]
    }
   ],
   "source": [
    "#answer:\n",
    "A=[]\n",
    "for i in range(len(X)):\n",
    "        B=[]\n",
    "        for j in range(len(X)):\n",
    "              B.append(X[i][j] + Y[i][j])\n",
    "        A.append(B)\n",
    "\n",
    "#A[0,0] = X[0][0]+Y[0][0]\n",
    "print(A)\n"
   ]
  },
  {
   "cell_type": "code",
   "execution_count": null,
   "metadata": {
    "id": "44erAMmCZrId"
   },
   "outputs": [],
   "source": [
    "#desired output:\n",
    "#[[3,5,10],\n",
    "# [5,9,15],\n",
    "# [10,10,12]]"
   ]
  },
  {
   "cell_type": "markdown",
   "metadata": {
    "ExecuteTime": {
     "end_time": "2019-06-27T04:04:23.509007Z",
     "start_time": "2019-06-27T04:04:23.503018Z"
    },
    "id": "CZFVdvEhT3CS"
   },
   "source": [
    "4. Compute the product of two matrices.\n",
    "\n",
    "![](https://upload.wikimedia.org/wikipedia/commons/e/eb/Matrix_multiplication_diagram_2.svg)"
   ]
  },
  {
   "cell_type": "code",
   "execution_count": 58,
   "metadata": {
    "ExecuteTime": {
     "end_time": "2019-06-27T04:57:19.425749Z",
     "start_time": "2019-06-27T04:57:19.412783Z"
    },
    "id": "2cwCXjx_T3CT"
   },
   "outputs": [],
   "source": [
    "# Program to multiply two matrices using nested loops\n",
    "\n",
    "# 3x3 matrix\n",
    "X = [[7, 2, 4],\n",
    "    [3, 9, 5],\n",
    "    [8, 1, 6]]\n",
    "\n",
    "# 3x4 matrix\n",
    "Y = [[5,8,2,6],\n",
    "    [1,4,9,3],\n",
    "    [7,2,5,8]]\n",
    "\n",
    "#X is 3 x 3, #Y is 3 x 4 matrix\n",
    "#result of XY is 3 x 4 matrix."
   ]
  },
  {
   "cell_type": "markdown",
   "metadata": {
    "id": "cIUXYjgGZrIe"
   },
   "source": [
    "Thought process:\n",
    "R = [[R11, R12, R13],\n",
    "    [R21, R22, R23],\n",
    "    [R31, R32, R33]]\n",
    "\n",
    "R11 = X row 1 X Y col 1 = X11*Y11 + X12*Y21 + X13*Y31\n",
    "R12 = X row 1 x Y col 2 = X11*Y12 + X12*Y22 + X13*Y32\n",
    "R13 = X row 1 x Y col 3 = X11*Y13 + X12*Y23 + X13*Y33\n",
    "X14 = X row 1 X Y col 4 = X11*Y14 + X12*Y24 + X13*Y34\n",
    "\n"
   ]
  },
  {
   "cell_type": "code",
   "execution_count": 117,
   "metadata": {},
   "outputs": [
    {
     "name": "stdout",
     "output_type": "stream",
     "text": [
      "number of column X matrix : 3\n",
      "number of column Y matrix : 4\n",
      "[[7 2 4]\n",
      " [3 9 5]\n",
      " [8 1 6]]\n",
      "[[65, 72, 52, 80], [59, 70, 112, 85], [83, 80, 55, 99]]\n"
     ]
    }
   ],
   "source": [
    "#answer:\n",
    "X_matrix = np.array(X)\n",
    "Y_matrix = np.array(Y)\n",
    "\n",
    "print(\"number of column X matrix :\", X_matrix.shape[1])\n",
    "print(\"number of column Y matrix :\", Y_matrix.shape[1])\n",
    "print(X_matrix)\n",
    "\n",
    "R = []\n",
    "for row in range(X_matrix.shape[1]):\n",
    "    ## Make an empty list for each row\n",
    "    T = []\n",
    "    for col in range(Y_matrix.shape[1]):\n",
    "        # define the integer variable\n",
    "        b = 0\n",
    "        for k in range(len(X_matrix)):\n",
    "            a = X_matrix[row][k] * Y_matrix[k][col]\n",
    "            b = b+a\n",
    "        # Append the result into the row.\n",
    "        T.append(b)\n",
    "    R.append(T)\n",
    "\n",
    "print(R)"
   ]
  },
  {
   "cell_type": "code",
   "execution_count": null,
   "metadata": {
    "id": "M2_bFbUbZrIe"
   },
   "outputs": [],
   "source": [
    "#desired output:\n",
    "#[[65, 72, 52, 80],\n",
    "# [59, 70, 112, 85],\n",
    "# [83, 80, 55, 99]]"
   ]
  },
  {
   "cell_type": "markdown",
   "metadata": {
    "id": "zxe0vdBVT3CV"
   },
   "source": [
    "5. Compute the determinant of an n x n matrix.\n",
    "\n",
    "![](https://integratedmlai.com/wp-content/uploads/2018/12/Matrix_Det_2x2.png)\n",
    "\n",
    "Hint: [Find the Determinant of a Matrix with Pure Python without Numpy or Scipy](https://integratedmlai.com/find-the-determinant-of-a-matrix-with-pure-python-without-numpy-or-scipy/)\n",
    "\n",
    "Hint: Use\n",
    "> np.linalg.det"
   ]
  },
  {
   "cell_type": "code",
   "execution_count": 184,
   "metadata": {
    "ExecuteTime": {
     "end_time": "2019-06-27T04:58:00.140277Z",
     "start_time": "2019-06-27T04:58:00.135291Z"
    },
    "id": "7SpAPh-5T3CW"
   },
   "outputs": [],
   "source": [
    "matrix = [[-2,2,-3],[-1,1,3],[2,0,-1]]"
   ]
  },
  {
   "cell_type": "code",
   "execution_count": 222,
   "metadata": {
    "id": "rjFQS3POZrIe"
   },
   "outputs": [
    {
     "data": {
      "text/plain": [
       "18"
      ]
     },
     "execution_count": 222,
     "metadata": {},
     "output_type": "execute_result"
    }
   ],
   "source": [
    "## from https://integratedmlai.com/find-the-determinant-of-a-matrix-with-pure-python-without-numpy-or-scipy/\n",
    "\n",
    "def determinant_recursive(A, total=0):\n",
    "    # Section 1: store indices in list for row referencing\n",
    "    indices = [i for i in range(len(matrix))]\n",
    "    #indices = list(range(len(A)))\n",
    "     \n",
    "    # Section 2: when at 2x2 submatrices recursive calls end\n",
    "    if len(A) == 2 and len(A[0]) == 2:\n",
    "        val = A[0][0] * A[1][1] - A[1][0] * A[0][1]\n",
    "        return val\n",
    " \n",
    "    # Section 3: define submatrix for focus column and \n",
    "    #      call this function\n",
    "    for fc in indices: # A) for each focus column, ...\n",
    "        # find the submatrix ...\n",
    "        As = A.copy() # B) make a copy, and ...\n",
    "        As = As[1:] # ... C) remove the first row\n",
    "        height = len(As) # D) \n",
    " \n",
    "        for i in range(height): \n",
    "            # E) for each remaining row of submatrix ...\n",
    "            #     remove the focus column elements\n",
    "            As[i] = As[i][0:fc] + As[i][fc+1:] \n",
    " \n",
    "        sign = (-1) ** (fc % 2) # F) \n",
    "        # G) pass submatrix recursively\n",
    "        sub_det = determinant_recursive(As)\n",
    "        # H) total all returns from recursion\n",
    "        total += sign * A[0][fc] * sub_det \n",
    " \n",
    "    return total\n",
    "\n",
    "determinant_recursive(matrix)"
   ]
  },
  {
   "cell_type": "markdown",
   "metadata": {
    "id": "vUC6L5r1T3Ca"
   },
   "source": [
    "6. Compute the inverse of an n x n matrix.\n",
    "\n",
    "For a 3×3 matrix\n",
    "\n",
    "![](http://mathworld.wolfram.com/images/equations/MatrixInverse/NumberedEquation3.gif)\n",
    "\n",
    "the matrix inverse is\n",
    "\n",
    "![](http://mathworld.wolfram.com/images/equations/MatrixInverse/NumberedEquation4.gif)\n",
    "\n",
    "Hint: Use\n",
    "> from numpy.linalg import inv"
   ]
  },
  {
   "cell_type": "code",
   "execution_count": 224,
   "metadata": {
    "ExecuteTime": {
     "end_time": "2019-06-27T04:58:33.615832Z",
     "start_time": "2019-06-27T04:58:33.609848Z"
    },
    "id": "qGxUYlMWT3Cb"
   },
   "outputs": [],
   "source": [
    "a = np.array([[1., 2.], [3., 4.]])"
   ]
  },
  {
   "cell_type": "code",
   "execution_count": 227,
   "metadata": {
    "id": "pP_uIj5vZrIe"
   },
   "outputs": [
    {
     "name": "stdout",
     "output_type": "stream",
     "text": [
      "[[-2.   1. ]\n",
      " [ 1.5 -0.5]]\n"
     ]
    }
   ],
   "source": [
    "#answer:\n",
    "from numpy.linalg import inv\n",
    "\n",
    "a_inverse = np.linalg.inv(a)\n",
    "print(a_inverse)"
   ]
  },
  {
   "cell_type": "markdown",
   "metadata": {
    "id": "f52z_umQpL1V"
   },
   "source": [
    "\n",
    "\n",
    "---\n",
    "\n",
    "\n",
    "\n",
    "---\n",
    "\n",
    "\n",
    "\n",
    "> > > > > > > > > © 2023 Institute of Data\n",
    "\n",
    "\n",
    "---\n",
    "\n",
    "\n",
    "\n",
    "---\n",
    "\n",
    "\n",
    "\n"
   ]
  }
 ],
 "metadata": {
  "colab": {
   "provenance": []
  },
  "kernelspec": {
   "display_name": "Python [conda env:root] *",
   "language": "python",
   "name": "conda-root-py"
  },
  "language_info": {
   "codemirror_mode": {
    "name": "ipython",
    "version": 3
   },
   "file_extension": ".py",
   "mimetype": "text/x-python",
   "name": "python",
   "nbconvert_exporter": "python",
   "pygments_lexer": "ipython3",
   "version": "3.9.13"
  }
 },
 "nbformat": 4,
 "nbformat_minor": 4
}
