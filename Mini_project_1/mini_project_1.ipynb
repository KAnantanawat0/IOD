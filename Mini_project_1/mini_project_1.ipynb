{
 "cells": [
  {
   "cell_type": "markdown",
   "metadata": {},
   "source": [
    "# Looking at the relationship between depression and alcohol consumption in different countries."
   ]
  },
  {
   "cell_type": "code",
   "execution_count": null,
   "metadata": {},
   "outputs": [],
   "source": [
    "import numpy as np\n",
    "import pandas as pd\n",
    "import matplotlib.pyplot as plt\n",
    "import seaborn as sns\n",
    "import pycountry"
   ]
  },
  {
   "cell_type": "code",
   "execution_count": null,
   "metadata": {},
   "outputs": [],
   "source": [
    "# Import the data\n",
    "\n",
    "depression = pd.read_csv('../DATA/mini_project_1_depressive-disorders-prevalence-males-vs-females.csv')\n",
    "alcohol = pd.read_csv('../DATA/mini_project_1_OECD_Alcohol_Consumption_per_Capita.csv')"
   ]
  },
  {
   "cell_type": "code",
   "execution_count": null,
   "metadata": {},
   "outputs": [],
   "source": [
    "depression.columns"
   ]
  },
  {
   "cell_type": "code",
   "execution_count": null,
   "metadata": {},
   "outputs": [],
   "source": [
    "depression = depression.rename(columns={'Depressive disorders (share of population) - Sex: Male - Age: Age-standardized': 'depression_male',\n",
    "                                        'Depressive disorders (share of population) - Sex: Female - Age: Age-standardized':'depression_female',\n",
    "                                        'Population (historical estimates)':'population_estimates'})"
   ]
  },
  {
   "cell_type": "code",
   "execution_count": null,
   "metadata": {},
   "outputs": [],
   "source": [
    "depression.shape"
   ]
  },
  {
   "cell_type": "code",
   "execution_count": null,
   "metadata": {},
   "outputs": [],
   "source": [
    "depression.dtypes\n"
   ]
  },
  {
   "cell_type": "code",
   "execution_count": null,
   "metadata": {},
   "outputs": [],
   "source": [
    "depression.head()"
   ]
  },
  {
   "cell_type": "code",
   "execution_count": null,
   "metadata": {},
   "outputs": [],
   "source": [
    "depression.tail()"
   ]
  },
  {
   "cell_type": "markdown",
   "metadata": {},
   "source": [
    "## Data keys\n",
    "\n",
    "- Entity = Country\n",
    "- Code = Country code\n",
    "- Year = Year\n",
    "- Depressive disorders (share of population) - sex Male - age, age standardised (???)\n",
    "- Depressive disorders (share of population) - sex Female - age, age standardised (???)\n",
    "- Population historical estimate \n",
    "- Continent"
   ]
  },
  {
   "cell_type": "code",
   "execution_count": null,
   "metadata": {},
   "outputs": [],
   "source": [
    "depression.isna().sum()"
   ]
  },
  {
   "cell_type": "code",
   "execution_count": null,
   "metadata": {},
   "outputs": [],
   "source": [
    "depression.groupby(by='Entity').value_counts()"
   ]
  },
  {
   "cell_type": "markdown",
   "metadata": {},
   "source": [
    "Maybe be more specific \n",
    "- specific year\n",
    "- specific gender\n",
    "- specific continent"
   ]
  },
  {
   "cell_type": "code",
   "execution_count": null,
   "metadata": {},
   "outputs": [],
   "source": [
    "depression[depression['Continent'] == 'Europe']['Year'].unique()"
   ]
  },
  {
   "cell_type": "code",
   "execution_count": null,
   "metadata": {},
   "outputs": [],
   "source": [
    "depression[depression['Year'] == 2015].groupby(by = 'Continent').count()"
   ]
  },
  {
   "cell_type": "code",
   "execution_count": null,
   "metadata": {},
   "outputs": [],
   "source": [
    "depression[depression['Continent'] == 'Oceania']"
   ]
  },
  {
   "cell_type": "code",
   "execution_count": null,
   "metadata": {},
   "outputs": [],
   "source": [
    "depression[depression['Entity'] == 'New Zealand'].groupby(by='Continent').count()"
   ]
  },
  {
   "cell_type": "markdown",
   "metadata": {},
   "source": [
    "1. Extract the country by year 2015.\n",
    "2. For each record, if the name of the country is the same, and if the continent is NA, fill it with country continent from year 2015. "
   ]
  },
  {
   "cell_type": "code",
   "execution_count": null,
   "metadata": {},
   "outputs": [],
   "source": [
    "country_continent_df = depression[depression['Year'] == 2015][['Entity', 'Continent']]"
   ]
  },
  {
   "cell_type": "code",
   "execution_count": null,
   "metadata": {},
   "outputs": [],
   "source": [
    "country_continent_df[country_continent_df['Continent'].isna() == True]"
   ]
  },
  {
   "cell_type": "code",
   "execution_count": null,
   "metadata": {},
   "outputs": [],
   "source": [
    "# These are not countries. There are High-income countries, upper middle, lower middle, low income countries.\n",
    "# I should probably drop these. "
   ]
  },
  {
   "cell_type": "code",
   "execution_count": null,
   "metadata": {},
   "outputs": [],
   "source": [
    "alcohol.info()"
   ]
  },
  {
   "cell_type": "code",
   "execution_count": null,
   "metadata": {},
   "outputs": [],
   "source": [
    "alcohol.head()"
   ]
  },
  {
   "cell_type": "code",
   "execution_count": null,
   "metadata": {},
   "outputs": [],
   "source": [
    "alcohol.tail()"
   ]
  },
  {
   "cell_type": "code",
   "execution_count": null,
   "metadata": {},
   "outputs": [],
   "source": [
    "alcohol['FREQUENCY'].unique()"
   ]
  },
  {
   "cell_type": "code",
   "execution_count": null,
   "metadata": {},
   "outputs": [],
   "source": [
    "alcohol['LOCATION'].unique()"
   ]
  },
  {
   "cell_type": "code",
   "execution_count": null,
   "metadata": {},
   "outputs": [],
   "source": [
    "alcohol_country = alcohol['LOCATION'].unique().tolist()"
   ]
  },
  {
   "cell_type": "code",
   "execution_count": null,
   "metadata": {},
   "outputs": [],
   "source": [
    "alcohol_country"
   ]
  },
  {
   "cell_type": "code",
   "execution_count": null,
   "metadata": {},
   "outputs": [],
   "source": [
    "depression[depression['Code'] == 'AUS']"
   ]
  },
  {
   "cell_type": "code",
   "execution_count": null,
   "metadata": {},
   "outputs": [],
   "source": [
    "test = ['AUS','ROU']"
   ]
  },
  {
   "cell_type": "code",
   "execution_count": null,
   "metadata": {},
   "outputs": [],
   "source": [
    "depression[depression['Code'].isin(alcohol_country)]['Code'].sort_values().unique()"
   ]
  },
  {
   "cell_type": "markdown",
   "metadata": {},
   "source": [
    "Oceania - AUS\n",
    "Europe - AUT, BEL, BGR, CHE, CZE\n",
    "South America - ARG',BRA, CHL, COL\n",
    "North America - CAN, CRI, \n",
    "Asia - CHN\n",
    "\n",
    "\n",
    "\n",
    " 'AUS', 'AUT', 'BEL', 'BGR', 'BRA', 'CAN', 'CHE', 'CHL',\n",
    "       'CHN', 'COL', 'CRI', 'CZE', 'DEU', 'DNK', 'ESP', 'EST', 'FIN',\n",
    "       'FRA', 'GBR', 'GRC', 'HRV', 'HUN', 'IDN', 'IND', 'IRL', 'ISL',\n",
    "       'ISR', 'ITA', 'JPN', 'KOR', 'LTU', 'LUX', 'LVA', 'MEX', 'NLD',\n",
    "       'NOR', 'NZL', 'PER', 'POL', 'PRT', 'ROU', 'RUS', 'SVK', 'SVN',\n",
    "       'SWE', 'TUR', 'USA', 'ZAF'], dtype=object)"
   ]
  },
  {
   "cell_type": "markdown",
   "metadata": {},
   "source": [
    "Depression['Code'] is the same as alcohol['Location'].\n",
    "Depression['Year'] is the same as alcohol['Time].\n",
    "\n",
    "Alcohol - I can drop the frequency."
   ]
  },
  {
   "cell_type": "code",
   "execution_count": null,
   "metadata": {},
   "outputs": [],
   "source": [
    "alcohol['TIME'].unique()"
   ]
  },
  {
   "cell_type": "code",
   "execution_count": null,
   "metadata": {},
   "outputs": [],
   "source": [
    "subset_df = alcohol[(alcohol['TIME'].isin([1980,1990,2000,2010,2018])) & (alcohol['LOCATION'].isin(['AUS','FRA','CAN','CHN','IND','JPN','RUS','TUR']))]\n",
    "sns.lineplot(x='TIME', y='LITRES/CAPITA', data = subset_df, hue='LOCATION')"
   ]
  },
  {
   "cell_type": "code",
   "execution_count": null,
   "metadata": {},
   "outputs": [],
   "source": [
    "depression.head()"
   ]
  },
  {
   "cell_type": "code",
   "execution_count": null,
   "metadata": {},
   "outputs": [],
   "source": [
    "#subset_df_2 = depression[(depression['Year'].isin([1980,1990,2000,2010])) & (depression['Code'].isin(['AUS','CAN','CHN','IND','JPN']))]\n",
    "subset_df_2 = depression[depression['Code'].isin(['AUS','CAN','CHN','IND','JPN','RUS','THA','FRA'])]\n",
    "\n",
    "sns.lineplot(x='Year', y='depression_male', data = subset_df_2, hue='Code')"
   ]
  },
  {
   "cell_type": "code",
   "execution_count": null,
   "metadata": {},
   "outputs": [],
   "source": [
    "depression[(depression['Code'].isin(['AUS','CAN','CHN','IND','JPN'])) & (depression['depression_female'].isna())]"
   ]
  },
  {
   "cell_type": "code",
   "execution_count": null,
   "metadata": {},
   "outputs": [],
   "source": [
    "subset_df_2 = depression[depression['Code'].isin(['AUS','CAN','CHN','IND','JPN','THA'])]\n",
    "\n",
    "sns.lineplot(x='Year', y='depression_female', data = subset_df_2, hue='Code')"
   ]
  },
  {
   "cell_type": "code",
   "execution_count": null,
   "metadata": {},
   "outputs": [],
   "source": [
    "injury = pd.read_csv('../DATA/mini_project1_IHME-GBD_2019_DATA-e11478df-1.csv')"
   ]
  },
  {
   "cell_type": "code",
   "execution_count": null,
   "metadata": {},
   "outputs": [],
   "source": [
    "injury.head()"
   ]
  },
  {
   "cell_type": "code",
   "execution_count": null,
   "metadata": {},
   "outputs": [],
   "source": [
    "depression_new = pd.read_csv('../DATA/mini_project_new_depression_data.csv')"
   ]
  },
  {
   "cell_type": "code",
   "execution_count": null,
   "metadata": {},
   "outputs": [],
   "source": [
    "depression_new.head()"
   ]
  },
  {
   "cell_type": "code",
   "execution_count": null,
   "metadata": {},
   "outputs": [],
   "source": [
    "depression_new.isna().sum()"
   ]
  },
  {
   "cell_type": "code",
   "execution_count": null,
   "metadata": {},
   "outputs": [],
   "source": [
    "depression_new.info()"
   ]
  },
  {
   "cell_type": "code",
   "execution_count": null,
   "metadata": {},
   "outputs": [],
   "source": [
    "depression_new.describe()"
   ]
  },
  {
   "cell_type": "code",
   "execution_count": null,
   "metadata": {},
   "outputs": [],
   "source": [
    "alcohol['country_name'] = alcohol['LOCATION']"
   ]
  },
  {
   "cell_type": "code",
   "execution_count": null,
   "metadata": {},
   "outputs": [],
   "source": [
    "depression_incident = pd.read_csv('../DATA/mini_project1_depression_incident_1990_2019.csv')"
   ]
  },
  {
   "cell_type": "code",
   "execution_count": null,
   "metadata": {},
   "outputs": [],
   "source": [
    "depression_incident.head()"
   ]
  },
  {
   "cell_type": "code",
   "execution_count": null,
   "metadata": {},
   "outputs": [],
   "source": [
    "dp_rate = depression_incident[depression_incident['metric'] == 'Rate'][['location','year','val']]\n"
   ]
  },
  {
   "cell_type": "code",
   "execution_count": null,
   "metadata": {},
   "outputs": [],
   "source": [
    "subset_location = ['Australia']\n",
    "sns.lineplot(data = dp_rate[dp_rate['location'].isin(subset_location)], x='year', y='val', hue='location')\n"
   ]
  },
  {
   "cell_type": "code",
   "execution_count": null,
   "metadata": {},
   "outputs": [],
   "source": [
    "sns.lineplot(x='TIME', y='LITRES/CAPITA', data = alcohol[(alcohol['LOCATION'] == 'AUS') & (alcohol['TIME'] >= 1990)], hue='LOCATION')"
   ]
  },
  {
   "cell_type": "code",
   "execution_count": null,
   "metadata": {},
   "outputs": [],
   "source": [
    "depression_incident[depression_incident['metric'] == 'Rate'].groupby(by=['location','year']).mean()\n"
   ]
  },
  {
   "cell_type": "code",
   "execution_count": null,
   "metadata": {},
   "outputs": [],
   "source": [
    "sns.lineplot(x='year', y='val', data = dp_rate)"
   ]
  },
  {
   "cell_type": "code",
   "execution_count": null,
   "metadata": {},
   "outputs": [],
   "source": [
    "plt.hist(x=dp_rate['val'])"
   ]
  },
  {
   "cell_type": "code",
   "execution_count": null,
   "metadata": {},
   "outputs": [],
   "source": [
    "sns.histplot(data=dp_rate, x='val')"
   ]
  },
  {
   "cell_type": "code",
   "execution_count": null,
   "metadata": {},
   "outputs": [],
   "source": [
    "dp_rate['country_code'] = dp_rate['location']."
   ]
  },
  {
   "cell_type": "code",
   "execution_count": null,
   "metadata": {},
   "outputs": [],
   "source": [
    "countries={}\n",
    "\n",
    "for country in pycountry.countries:\n",
    "    countries[country.name] = country.alpha_3\n",
    "\n",
    "countries"
   ]
  },
  {
   "cell_type": "code",
   "execution_count": null,
   "metadata": {},
   "outputs": [],
   "source": [
    "dp_rate['location_code'] = [countries.get(country, 'Unknown code') for country in dp_rate['location']]"
   ]
  },
  {
   "cell_type": "code",
   "execution_count": null,
   "metadata": {},
   "outputs": [],
   "source": [
    "dp_rate.head()"
   ]
  },
  {
   "cell_type": "code",
   "execution_count": null,
   "metadata": {},
   "outputs": [],
   "source": [
    "alcohol.head()"
   ]
  },
  {
   "cell_type": "code",
   "execution_count": null,
   "metadata": {},
   "outputs": [],
   "source": [
    "print(dp_rate.shape)\n",
    "print(alcohol.shape)"
   ]
  },
  {
   "cell_type": "code",
   "execution_count": null,
   "metadata": {},
   "outputs": [],
   "source": [
    "dp_alcohol = pd.merge(dp_rate,alcohol, how='inner', left_on=['location_code','year'], right_on=['LOCATION','TIME'])"
   ]
  },
  {
   "cell_type": "code",
   "execution_count": null,
   "metadata": {},
   "outputs": [],
   "source": [
    "dp_alcohol.shape"
   ]
  },
  {
   "cell_type": "code",
   "execution_count": null,
   "metadata": {},
   "outputs": [],
   "source": [
    "dp_alcohol.head()"
   ]
  },
  {
   "cell_type": "markdown",
   "metadata": {},
   "source": [
    "Financial crisis happens in 2008. Let's see if the depression has increased between 2007 and 2008 and if the alcohol consumption also increased during that time. "
   ]
  },
  {
   "cell_type": "code",
   "execution_count": null,
   "metadata": {},
   "outputs": [],
   "source": [
    "interest_year = [2007,2008]\n",
    "subset = dp_alcohol[dp_alcohol['year'].isin(interest_year)]\n",
    "plt.hist(subset[subset['year'] == 2007]['LITRES/CAPITA'], histtype='step', stacked=True, color='Blue')\n",
    "plt.hist(subset[subset['year'] == 2008]['LITRES/CAPITA'], histtype='step', stacked=True, color='Red')\n",
    "\n",
    "plt.show()"
   ]
  },
  {
   "cell_type": "code",
   "execution_count": null,
   "metadata": {},
   "outputs": [],
   "source": [
    "sns.scatterplot(data=dp_alcohol[dp_alcohol['year'] == 2008], x='LITRES/CAPITA', y='val')"
   ]
  },
  {
   "cell_type": "code",
   "execution_count": null,
   "metadata": {},
   "outputs": [],
   "source": [
    "dp_alcohol[dp_alcohol['year'] == 2008][['LITRES/CAPITA','val']].corr()"
   ]
  },
  {
   "cell_type": "code",
   "execution_count": null,
   "metadata": {},
   "outputs": [],
   "source": [
    "dp_alcohol_2019 = dp_alcohol[dp_alcohol['year'] == 2019]"
   ]
  },
  {
   "cell_type": "code",
   "execution_count": null,
   "metadata": {},
   "outputs": [],
   "source": [
    "dp_alcohol_2019.head()"
   ]
  },
  {
   "cell_type": "code",
   "execution_count": null,
   "metadata": {},
   "outputs": [],
   "source": [
    "dp_alcohol_2019.shape"
   ]
  },
  {
   "cell_type": "code",
   "execution_count": null,
   "metadata": {},
   "outputs": [],
   "source": [
    "low_alcohol = dp_alcohol_2019.sort_values(by='LITRES/CAPITA').iloc[1:11]['val'].tolist()\n"
   ]
  },
  {
   "cell_type": "code",
   "execution_count": null,
   "metadata": {},
   "outputs": [],
   "source": [
    "low_alcohol"
   ]
  },
  {
   "cell_type": "code",
   "execution_count": null,
   "metadata": {},
   "outputs": [],
   "source": [
    "high_alcohol = dp_alcohol_2019.sort_values(by='LITRES/CAPITA').iloc[34:44]['val'].tolist()"
   ]
  },
  {
   "cell_type": "code",
   "execution_count": null,
   "metadata": {},
   "outputs": [],
   "source": [
    "high_alcohol"
   ]
  },
  {
   "cell_type": "code",
   "execution_count": null,
   "metadata": {},
   "outputs": [],
   "source": [
    "plt.boxplot(x=[low_alcohol,high_alcohol])"
   ]
  },
  {
   "cell_type": "code",
   "execution_count": null,
   "metadata": {},
   "outputs": [],
   "source": [
    "alcohol_abuse = pd.read_csv('../DATA/mini_project1_alcohol_abuse_depression_disorder.csv')"
   ]
  },
  {
   "cell_type": "code",
   "execution_count": null,
   "metadata": {},
   "outputs": [],
   "source": [
    "alcohol_abuse.head()"
   ]
  },
  {
   "cell_type": "code",
   "execution_count": null,
   "metadata": {},
   "outputs": [],
   "source": [
    "alcohol_abuse.cause.unique()"
   ]
  },
  {
   "cell_type": "code",
   "execution_count": null,
   "metadata": {},
   "outputs": [],
   "source": [
    "alcohol_abuse[alcohol_abuse['cause'] == 'Alcohol use disorders']"
   ]
  },
  {
   "cell_type": "code",
   "execution_count": null,
   "metadata": {},
   "outputs": [],
   "source": [
    "al = alcohol_abuse[alcohol_abuse['cause'] == 'Alcohol use disorders']\n",
    "dp = alcohol_abuse[alcohol_abuse['cause'] == 'Depressive disorders']\n",
    "dp_al_merge = pd.merge(al,dp, how='inner', left_on=['location','year'], right_on=['location','year'], left_index=False, right_index=False)"
   ]
  },
  {
   "cell_type": "code",
   "execution_count": null,
   "metadata": {},
   "outputs": [],
   "source": [
    "dp_al_merge.head()"
   ]
  },
  {
   "cell_type": "code",
   "execution_count": null,
   "metadata": {},
   "outputs": [],
   "source": [
    "dp_al_merge = dp_al_merge[['location','year','val_x','val_y']]"
   ]
  },
  {
   "cell_type": "code",
   "execution_count": null,
   "metadata": {},
   "outputs": [],
   "source": [
    "dp_al_merge.rename(columns={'val_x':'alcohol_abuse', 'val_y':'depression_disorders'}, inplace=True)"
   ]
  },
  {
   "cell_type": "code",
   "execution_count": null,
   "metadata": {},
   "outputs": [],
   "source": [
    "dp_al_merge.head()"
   ]
  },
  {
   "cell_type": "code",
   "execution_count": null,
   "metadata": {},
   "outputs": [],
   "source": [
    "sns.scatterplot(data=dp_al_merge, x='alcohol_abuse', y='depression_disorders', hue='location')"
   ]
  },
  {
   "cell_type": "code",
   "execution_count": null,
   "metadata": {},
   "outputs": [],
   "source": [
    "dp_al_merge[['alcohol_abuse','depression_disorders']].corr()"
   ]
  },
  {
   "cell_type": "code",
   "execution_count": null,
   "metadata": {},
   "outputs": [],
   "source": [
    "dp_al_merge['location'].sort_values().unique()"
   ]
  },
  {
   "cell_type": "code",
   "execution_count": null,
   "metadata": {},
   "outputs": [],
   "source": [
    "south_american = ['Argentina', 'Brazil', 'Chile','Colombia','Peru','Mexico']\n",
    "dpal_sa = dp_al_merge[dp_al_merge['location'].isin(south_american)]"
   ]
  },
  {
   "cell_type": "code",
   "execution_count": null,
   "metadata": {},
   "outputs": [],
   "source": [
    "dpal_sa['location'].sort_values().unique()"
   ]
  },
  {
   "cell_type": "code",
   "execution_count": null,
   "metadata": {},
   "outputs": [],
   "source": [
    "sns.scatterplot(data=dpal_sa, x='alcohol_abuse', y='depression_disorders', hue='location')"
   ]
  },
  {
   "cell_type": "code",
   "execution_count": null,
   "metadata": {},
   "outputs": [],
   "source": [
    "sns.lineplot(data=dpal_sa, x='year', y='depression_disorders', hue='location')"
   ]
  },
  {
   "cell_type": "code",
   "execution_count": null,
   "metadata": {},
   "outputs": [],
   "source": [
    "sns.lineplot(data=dpal_sa, x='year', y='alcohol_abuse', hue='location')"
   ]
  },
  {
   "cell_type": "code",
   "execution_count": null,
   "metadata": {},
   "outputs": [],
   "source": [
    "sns.lineplot(data=dp_al_merge[dp_al_merge['location'] == 'Australia'], x='year', y='depression_disorders', hue='location')"
   ]
  },
  {
   "cell_type": "code",
   "execution_count": null,
   "metadata": {},
   "outputs": [],
   "source": [
    "sns.lineplot(data=dp_al_merge[dp_al_merge['location'] == 'Australia'], x='year', y='alcohol_abuse', hue='location')"
   ]
  },
  {
   "cell_type": "markdown",
   "metadata": {},
   "source": [
    "Story\n",
    "- Regardless of each year, it seems that the depression incident and the alcohol abuse disorder are distinct between countries with high income and low income in world bank. \n",
    "- Average of accident per year is different."
   ]
  },
  {
   "cell_type": "code",
   "execution_count": 180,
   "metadata": {},
   "outputs": [],
   "source": [
    "df = pd.read_csv('../DATA/mini_project_1_all_countries_mental_disorder.csv')"
   ]
  },
  {
   "cell_type": "code",
   "execution_count": 182,
   "metadata": {},
   "outputs": [
    {
     "name": "stdout",
     "output_type": "stream",
     "text": [
      "<class 'pandas.core.frame.DataFrame'>\n",
      "RangeIndex: 204 entries, 0 to 203\n",
      "Data columns (total 10 columns):\n",
      " #   Column    Non-Null Count  Dtype  \n",
      "---  ------    --------------  -----  \n",
      " 0   measure   204 non-null    object \n",
      " 1   location  204 non-null    object \n",
      " 2   sex       204 non-null    object \n",
      " 3   age       204 non-null    object \n",
      " 4   cause     204 non-null    object \n",
      " 5   metric    204 non-null    object \n",
      " 6   year      204 non-null    int64  \n",
      " 7   val       204 non-null    float64\n",
      " 8   upper     204 non-null    float64\n",
      " 9   lower     204 non-null    float64\n",
      "dtypes: float64(3), int64(1), object(6)\n",
      "memory usage: 16.1+ KB\n"
     ]
    }
   ],
   "source": [
    "df.info()"
   ]
  },
  {
   "cell_type": "code",
   "execution_count": 187,
   "metadata": {},
   "outputs": [
    {
     "data": {
      "text/html": [
       "<div>\n",
       "<style scoped>\n",
       "    .dataframe tbody tr th:only-of-type {\n",
       "        vertical-align: middle;\n",
       "    }\n",
       "\n",
       "    .dataframe tbody tr th {\n",
       "        vertical-align: top;\n",
       "    }\n",
       "\n",
       "    .dataframe thead th {\n",
       "        text-align: right;\n",
       "    }\n",
       "</style>\n",
       "<table border=\"1\" class=\"dataframe\">\n",
       "  <thead>\n",
       "    <tr style=\"text-align: right;\">\n",
       "      <th></th>\n",
       "      <th>measure</th>\n",
       "      <th>location</th>\n",
       "      <th>sex</th>\n",
       "      <th>age</th>\n",
       "      <th>cause</th>\n",
       "      <th>metric</th>\n",
       "      <th>year</th>\n",
       "      <th>val</th>\n",
       "      <th>upper</th>\n",
       "      <th>lower</th>\n",
       "    </tr>\n",
       "  </thead>\n",
       "  <tbody>\n",
       "    <tr>\n",
       "      <th>0</th>\n",
       "      <td>Incidence</td>\n",
       "      <td>Uzbekistan</td>\n",
       "      <td>Both</td>\n",
       "      <td>All ages</td>\n",
       "      <td>Mental disorders</td>\n",
       "      <td>Rate</td>\n",
       "      <td>2019</td>\n",
       "      <td>3846.365157</td>\n",
       "      <td>4395.702467</td>\n",
       "      <td>3361.639801</td>\n",
       "    </tr>\n",
       "    <tr>\n",
       "      <th>1</th>\n",
       "      <td>Incidence</td>\n",
       "      <td>Lao People's Democratic Republic</td>\n",
       "      <td>Both</td>\n",
       "      <td>All ages</td>\n",
       "      <td>Mental disorders</td>\n",
       "      <td>Rate</td>\n",
       "      <td>2019</td>\n",
       "      <td>3342.876636</td>\n",
       "      <td>3789.064064</td>\n",
       "      <td>2938.416575</td>\n",
       "    </tr>\n",
       "    <tr>\n",
       "      <th>2</th>\n",
       "      <td>Incidence</td>\n",
       "      <td>Mongolia</td>\n",
       "      <td>Both</td>\n",
       "      <td>All ages</td>\n",
       "      <td>Mental disorders</td>\n",
       "      <td>Rate</td>\n",
       "      <td>2019</td>\n",
       "      <td>5080.060998</td>\n",
       "      <td>5818.087955</td>\n",
       "      <td>4392.068001</td>\n",
       "    </tr>\n",
       "    <tr>\n",
       "      <th>3</th>\n",
       "      <td>Incidence</td>\n",
       "      <td>Timor-Leste</td>\n",
       "      <td>Both</td>\n",
       "      <td>All ages</td>\n",
       "      <td>Mental disorders</td>\n",
       "      <td>Rate</td>\n",
       "      <td>2019</td>\n",
       "      <td>3187.512271</td>\n",
       "      <td>3623.402717</td>\n",
       "      <td>2816.051310</td>\n",
       "    </tr>\n",
       "    <tr>\n",
       "      <th>4</th>\n",
       "      <td>Incidence</td>\n",
       "      <td>Kiribati</td>\n",
       "      <td>Both</td>\n",
       "      <td>All ages</td>\n",
       "      <td>Mental disorders</td>\n",
       "      <td>Rate</td>\n",
       "      <td>2019</td>\n",
       "      <td>3476.829239</td>\n",
       "      <td>3961.415708</td>\n",
       "      <td>3050.081363</td>\n",
       "    </tr>\n",
       "  </tbody>\n",
       "</table>\n",
       "</div>"
      ],
      "text/plain": [
       "     measure                          location   sex       age  \\\n",
       "0  Incidence                        Uzbekistan  Both  All ages   \n",
       "1  Incidence  Lao People's Democratic Republic  Both  All ages   \n",
       "2  Incidence                          Mongolia  Both  All ages   \n",
       "3  Incidence                       Timor-Leste  Both  All ages   \n",
       "4  Incidence                          Kiribati  Both  All ages   \n",
       "\n",
       "              cause metric  year          val        upper        lower  \n",
       "0  Mental disorders   Rate  2019  3846.365157  4395.702467  3361.639801  \n",
       "1  Mental disorders   Rate  2019  3342.876636  3789.064064  2938.416575  \n",
       "2  Mental disorders   Rate  2019  5080.060998  5818.087955  4392.068001  \n",
       "3  Mental disorders   Rate  2019  3187.512271  3623.402717  2816.051310  \n",
       "4  Mental disorders   Rate  2019  3476.829239  3961.415708  3050.081363  "
      ]
     },
     "execution_count": 187,
     "metadata": {},
     "output_type": "execute_result"
    }
   ],
   "source": [
    "df.head()"
   ]
  },
  {
   "cell_type": "code",
   "execution_count": 188,
   "metadata": {},
   "outputs": [],
   "source": [
    "# Generate the country code in dp_rate\n",
    "countries={}\n",
    "\n",
    "for country in pycountry.countries:\n",
    "    countries[country.name] = country.alpha_3\n",
    "\n",
    "df['location_code'] = [countries.get(country, 'Unknown code') for country in df['location']]"
   ]
  },
  {
   "cell_type": "code",
   "execution_count": 189,
   "metadata": {},
   "outputs": [
    {
     "data": {
      "text/plain": [
       "0    UZB\n",
       "1    LAO\n",
       "2    MNG\n",
       "3    TLS\n",
       "4    KIR\n",
       "Name: location_code, dtype: object"
      ]
     },
     "execution_count": 189,
     "metadata": {},
     "output_type": "execute_result"
    }
   ],
   "source": [
    "df['location_code'].head()"
   ]
  },
  {
   "cell_type": "code",
   "execution_count": 190,
   "metadata": {},
   "outputs": [
    {
     "data": {
      "text/plain": [
       "measure          0\n",
       "location         0\n",
       "sex              0\n",
       "age              0\n",
       "cause            0\n",
       "metric           0\n",
       "year             0\n",
       "val              0\n",
       "upper            0\n",
       "lower            0\n",
       "location_code    0\n",
       "dtype: int64"
      ]
     },
     "execution_count": 190,
     "metadata": {},
     "output_type": "execute_result"
    }
   ],
   "source": [
    "df.isna().sum()"
   ]
  },
  {
   "cell_type": "code",
   "execution_count": 184,
   "metadata": {},
   "outputs": [],
   "source": [
    "country_list = pd.read_csv('../DATA/mini_project_1_country_income_list.csv')"
   ]
  },
  {
   "cell_type": "code",
   "execution_count": 185,
   "metadata": {},
   "outputs": [
    {
     "name": "stdout",
     "output_type": "stream",
     "text": [
      "<class 'pandas.core.frame.DataFrame'>\n",
      "RangeIndex: 218 entries, 0 to 217\n",
      "Data columns (total 5 columns):\n",
      " #   Column            Non-Null Count  Dtype \n",
      "---  ------            --------------  ----- \n",
      " 0   Economy           218 non-null    object\n",
      " 1   Code              218 non-null    object\n",
      " 2   Region            218 non-null    object\n",
      " 3   Income group      217 non-null    object\n",
      " 4   Lending category  144 non-null    object\n",
      "dtypes: object(5)\n",
      "memory usage: 8.6+ KB\n"
     ]
    }
   ],
   "source": [
    "country_list.info()"
   ]
  },
  {
   "cell_type": "code",
   "execution_count": 186,
   "metadata": {},
   "outputs": [
    {
     "data": {
      "text/html": [
       "<div>\n",
       "<style scoped>\n",
       "    .dataframe tbody tr th:only-of-type {\n",
       "        vertical-align: middle;\n",
       "    }\n",
       "\n",
       "    .dataframe tbody tr th {\n",
       "        vertical-align: top;\n",
       "    }\n",
       "\n",
       "    .dataframe thead th {\n",
       "        text-align: right;\n",
       "    }\n",
       "</style>\n",
       "<table border=\"1\" class=\"dataframe\">\n",
       "  <thead>\n",
       "    <tr style=\"text-align: right;\">\n",
       "      <th></th>\n",
       "      <th>Economy</th>\n",
       "      <th>Code</th>\n",
       "      <th>Region</th>\n",
       "      <th>Income group</th>\n",
       "      <th>Lending category</th>\n",
       "    </tr>\n",
       "  </thead>\n",
       "  <tbody>\n",
       "    <tr>\n",
       "      <th>0</th>\n",
       "      <td>Aruba</td>\n",
       "      <td>ABW</td>\n",
       "      <td>Latin America &amp; Caribbean</td>\n",
       "      <td>High income</td>\n",
       "      <td>NaN</td>\n",
       "    </tr>\n",
       "    <tr>\n",
       "      <th>1</th>\n",
       "      <td>Afghanistan</td>\n",
       "      <td>AFG</td>\n",
       "      <td>South Asia</td>\n",
       "      <td>Low income</td>\n",
       "      <td>IDA</td>\n",
       "    </tr>\n",
       "    <tr>\n",
       "      <th>2</th>\n",
       "      <td>Angola</td>\n",
       "      <td>AGO</td>\n",
       "      <td>Sub-Saharan Africa</td>\n",
       "      <td>Lower middle income</td>\n",
       "      <td>IBRD</td>\n",
       "    </tr>\n",
       "    <tr>\n",
       "      <th>3</th>\n",
       "      <td>Albania</td>\n",
       "      <td>ALB</td>\n",
       "      <td>Europe &amp; Central Asia</td>\n",
       "      <td>Upper middle income</td>\n",
       "      <td>IBRD</td>\n",
       "    </tr>\n",
       "    <tr>\n",
       "      <th>4</th>\n",
       "      <td>Andorra</td>\n",
       "      <td>AND</td>\n",
       "      <td>Europe &amp; Central Asia</td>\n",
       "      <td>High income</td>\n",
       "      <td>NaN</td>\n",
       "    </tr>\n",
       "  </tbody>\n",
       "</table>\n",
       "</div>"
      ],
      "text/plain": [
       "       Economy Code                     Region         Income group  \\\n",
       "0        Aruba  ABW  Latin America & Caribbean          High income   \n",
       "1  Afghanistan  AFG                 South Asia           Low income   \n",
       "2       Angola  AGO         Sub-Saharan Africa  Lower middle income   \n",
       "3      Albania  ALB      Europe & Central Asia  Upper middle income   \n",
       "4      Andorra  AND      Europe & Central Asia          High income   \n",
       "\n",
       "  Lending category  \n",
       "0              NaN  \n",
       "1              IDA  \n",
       "2             IBRD  \n",
       "3             IBRD  \n",
       "4              NaN  "
      ]
     },
     "execution_count": 186,
     "metadata": {},
     "output_type": "execute_result"
    }
   ],
   "source": [
    "country_list.head()"
   ]
  },
  {
   "cell_type": "code",
   "execution_count": 191,
   "metadata": {},
   "outputs": [],
   "source": [
    "dfm = pd.merge(df,country_list,how='inner',left_on='location_code', right_on='Code')"
   ]
  },
  {
   "cell_type": "code",
   "execution_count": 192,
   "metadata": {},
   "outputs": [
    {
     "data": {
      "text/html": [
       "<div>\n",
       "<style scoped>\n",
       "    .dataframe tbody tr th:only-of-type {\n",
       "        vertical-align: middle;\n",
       "    }\n",
       "\n",
       "    .dataframe tbody tr th {\n",
       "        vertical-align: top;\n",
       "    }\n",
       "\n",
       "    .dataframe thead th {\n",
       "        text-align: right;\n",
       "    }\n",
       "</style>\n",
       "<table border=\"1\" class=\"dataframe\">\n",
       "  <thead>\n",
       "    <tr style=\"text-align: right;\">\n",
       "      <th></th>\n",
       "      <th>measure</th>\n",
       "      <th>location</th>\n",
       "      <th>sex</th>\n",
       "      <th>age</th>\n",
       "      <th>cause</th>\n",
       "      <th>metric</th>\n",
       "      <th>year</th>\n",
       "      <th>val</th>\n",
       "      <th>upper</th>\n",
       "      <th>lower</th>\n",
       "      <th>location_code</th>\n",
       "      <th>Economy</th>\n",
       "      <th>Code</th>\n",
       "      <th>Region</th>\n",
       "      <th>Income group</th>\n",
       "      <th>Lending category</th>\n",
       "    </tr>\n",
       "  </thead>\n",
       "  <tbody>\n",
       "    <tr>\n",
       "      <th>0</th>\n",
       "      <td>Incidence</td>\n",
       "      <td>Uzbekistan</td>\n",
       "      <td>Both</td>\n",
       "      <td>All ages</td>\n",
       "      <td>Mental disorders</td>\n",
       "      <td>Rate</td>\n",
       "      <td>2019</td>\n",
       "      <td>3846.365157</td>\n",
       "      <td>4395.702467</td>\n",
       "      <td>3361.639801</td>\n",
       "      <td>UZB</td>\n",
       "      <td>Uzbekistan</td>\n",
       "      <td>UZB</td>\n",
       "      <td>Europe &amp; Central Asia</td>\n",
       "      <td>Lower middle income</td>\n",
       "      <td>Blend</td>\n",
       "    </tr>\n",
       "    <tr>\n",
       "      <th>1</th>\n",
       "      <td>Incidence</td>\n",
       "      <td>Lao People's Democratic Republic</td>\n",
       "      <td>Both</td>\n",
       "      <td>All ages</td>\n",
       "      <td>Mental disorders</td>\n",
       "      <td>Rate</td>\n",
       "      <td>2019</td>\n",
       "      <td>3342.876636</td>\n",
       "      <td>3789.064064</td>\n",
       "      <td>2938.416575</td>\n",
       "      <td>LAO</td>\n",
       "      <td>Lao PDR</td>\n",
       "      <td>LAO</td>\n",
       "      <td>East Asia &amp; Pacific</td>\n",
       "      <td>Lower middle income</td>\n",
       "      <td>IDA</td>\n",
       "    </tr>\n",
       "    <tr>\n",
       "      <th>2</th>\n",
       "      <td>Incidence</td>\n",
       "      <td>Mongolia</td>\n",
       "      <td>Both</td>\n",
       "      <td>All ages</td>\n",
       "      <td>Mental disorders</td>\n",
       "      <td>Rate</td>\n",
       "      <td>2019</td>\n",
       "      <td>5080.060998</td>\n",
       "      <td>5818.087955</td>\n",
       "      <td>4392.068001</td>\n",
       "      <td>MNG</td>\n",
       "      <td>Mongolia</td>\n",
       "      <td>MNG</td>\n",
       "      <td>East Asia &amp; Pacific</td>\n",
       "      <td>Lower middle income</td>\n",
       "      <td>IBRD</td>\n",
       "    </tr>\n",
       "    <tr>\n",
       "      <th>3</th>\n",
       "      <td>Incidence</td>\n",
       "      <td>Timor-Leste</td>\n",
       "      <td>Both</td>\n",
       "      <td>All ages</td>\n",
       "      <td>Mental disorders</td>\n",
       "      <td>Rate</td>\n",
       "      <td>2019</td>\n",
       "      <td>3187.512271</td>\n",
       "      <td>3623.402717</td>\n",
       "      <td>2816.051310</td>\n",
       "      <td>TLS</td>\n",
       "      <td>Timor-Leste</td>\n",
       "      <td>TLS</td>\n",
       "      <td>East Asia &amp; Pacific</td>\n",
       "      <td>Lower middle income</td>\n",
       "      <td>Blend</td>\n",
       "    </tr>\n",
       "    <tr>\n",
       "      <th>4</th>\n",
       "      <td>Incidence</td>\n",
       "      <td>Kiribati</td>\n",
       "      <td>Both</td>\n",
       "      <td>All ages</td>\n",
       "      <td>Mental disorders</td>\n",
       "      <td>Rate</td>\n",
       "      <td>2019</td>\n",
       "      <td>3476.829239</td>\n",
       "      <td>3961.415708</td>\n",
       "      <td>3050.081363</td>\n",
       "      <td>KIR</td>\n",
       "      <td>Kiribati</td>\n",
       "      <td>KIR</td>\n",
       "      <td>East Asia &amp; Pacific</td>\n",
       "      <td>Lower middle income</td>\n",
       "      <td>IDA</td>\n",
       "    </tr>\n",
       "  </tbody>\n",
       "</table>\n",
       "</div>"
      ],
      "text/plain": [
       "     measure                          location   sex       age  \\\n",
       "0  Incidence                        Uzbekistan  Both  All ages   \n",
       "1  Incidence  Lao People's Democratic Republic  Both  All ages   \n",
       "2  Incidence                          Mongolia  Both  All ages   \n",
       "3  Incidence                       Timor-Leste  Both  All ages   \n",
       "4  Incidence                          Kiribati  Both  All ages   \n",
       "\n",
       "              cause metric  year          val        upper        lower  \\\n",
       "0  Mental disorders   Rate  2019  3846.365157  4395.702467  3361.639801   \n",
       "1  Mental disorders   Rate  2019  3342.876636  3789.064064  2938.416575   \n",
       "2  Mental disorders   Rate  2019  5080.060998  5818.087955  4392.068001   \n",
       "3  Mental disorders   Rate  2019  3187.512271  3623.402717  2816.051310   \n",
       "4  Mental disorders   Rate  2019  3476.829239  3961.415708  3050.081363   \n",
       "\n",
       "  location_code      Economy Code                 Region         Income group  \\\n",
       "0           UZB   Uzbekistan  UZB  Europe & Central Asia  Lower middle income   \n",
       "1           LAO      Lao PDR  LAO    East Asia & Pacific  Lower middle income   \n",
       "2           MNG     Mongolia  MNG    East Asia & Pacific  Lower middle income   \n",
       "3           TLS  Timor-Leste  TLS    East Asia & Pacific  Lower middle income   \n",
       "4           KIR     Kiribati  KIR    East Asia & Pacific  Lower middle income   \n",
       "\n",
       "  Lending category  \n",
       "0            Blend  \n",
       "1              IDA  \n",
       "2             IBRD  \n",
       "3            Blend  \n",
       "4              IDA  "
      ]
     },
     "execution_count": 192,
     "metadata": {},
     "output_type": "execute_result"
    }
   ],
   "source": [
    "dfm.head()"
   ]
  },
  {
   "cell_type": "code",
   "execution_count": 193,
   "metadata": {},
   "outputs": [
    {
     "data": {
      "text/plain": [
       "(187, 16)"
      ]
     },
     "execution_count": 193,
     "metadata": {},
     "output_type": "execute_result"
    }
   ],
   "source": [
    "dfm.shape"
   ]
  },
  {
   "cell_type": "code",
   "execution_count": 221,
   "metadata": {},
   "outputs": [
    {
     "data": {
      "text/plain": [
       "<Axes: xlabel='val', ylabel='Density'>"
      ]
     },
     "execution_count": 221,
     "metadata": {},
     "output_type": "execute_result"
    },
    {
     "data": {
      "image/png": "[encoded data removed]",
      "text/plain": [
       "<Figure size 640x480 with 1 Axes>"
      ]
     },
     "metadata": {},
     "output_type": "display_data"
    }
   ],
   "source": [
    "sns.kdeplot(dfm['val'])"
   ]
  },
  {
   "cell_type": "code",
   "execution_count": 194,
   "metadata": {},
   "outputs": [
    {
     "data": {
      "text/plain": [
       "<Axes: xlabel='Income group', ylabel='val'>"
      ]
     },
     "execution_count": 194,
     "metadata": {},
     "output_type": "execute_result"
    },
    {
     "data": {
      "image/png": "[encoded data removed]",
      "text/plain": [
       "<Figure size 640x480 with 1 Axes>"
      ]
     },
     "metadata": {},
     "output_type": "display_data"
    }
   ],
   "source": [
    "sns.boxplot(data=dfm, x='Income group', y='val')"
   ]
  },
  {
   "cell_type": "code",
   "execution_count": 195,
   "metadata": {},
   "outputs": [],
   "source": [
    "from scipy.stats import f_oneway"
   ]
  },
  {
   "cell_type": "code",
   "execution_count": 197,
   "metadata": {},
   "outputs": [
    {
     "name": "stdout",
     "output_type": "stream",
     "text": [
      "4.833750284177271 0.0029144854994634967\n"
     ]
    }
   ],
   "source": [
    "\n",
    "fvalue, pvalue = f_oneway(dfm[dfm['Income group'] == 'Low income']['val'],\n",
    "         dfm[dfm['Income group'] == 'Lower middle income']['val'],\n",
    "         dfm[dfm['Income group'] == 'Upper middle income']['val'],\n",
    "         dfm[dfm['Income group'] == 'High income']['val'])\n",
    "\n",
    "print(fvalue, pvalue)"
   ]
  },
  {
   "cell_type": "code",
   "execution_count": 202,
   "metadata": {},
   "outputs": [],
   "source": [
    "from statsmodels.stats.multicomp import pairwise_tukeyhsd"
   ]
  },
  {
   "cell_type": "code",
   "execution_count": 203,
   "metadata": {},
   "outputs": [],
   "source": [
    "tukey = pairwise_tukeyhsd(endog=dfm['val'], groups=dfm['Income group'], alpha=0.05)"
   ]
  },
  {
   "cell_type": "code",
   "execution_count": 204,
   "metadata": {},
   "outputs": [
    {
     "name": "stdout",
     "output_type": "stream",
     "text": [
      "                Multiple Comparison of Means - Tukey HSD, FWER=0.05                 \n",
      "====================================================================================\n",
      "       group1              group2        meandiff p-adj    lower      upper   reject\n",
      "------------------------------------------------------------------------------------\n",
      "        High income          Low income -375.0926 0.5777 -1135.6929  385.5077  False\n",
      "        High income Lower middle income -783.6521 0.0048 -1384.2125 -183.0917   True\n",
      "        High income Upper middle income -704.2618 0.0143 -1304.8222 -103.7014   True\n",
      "         Low income Lower middle income -408.5595 0.5354 -1195.9641  378.8452  False\n",
      "         Low income Upper middle income -329.1692 0.6998 -1116.5738  458.2355  False\n",
      "Lower middle income Upper middle income   79.3903 0.9882  -554.7754   713.556  False\n",
      "------------------------------------------------------------------------------------\n"
     ]
    }
   ],
   "source": [
    "print(tukey)"
   ]
  },
  {
   "cell_type": "code",
   "execution_count": 212,
   "metadata": {},
   "outputs": [],
   "source": [
    "from scipy import stats"
   ]
  },
  {
   "cell_type": "code",
   "execution_count": 213,
   "metadata": {},
   "outputs": [],
   "source": [
    "fitted_data, ax = stats.boxcox(dfm['val'])"
   ]
  },
  {
   "cell_type": "code",
   "execution_count": 216,
   "metadata": {},
   "outputs": [
    {
     "name": "stderr",
     "output_type": "stream",
     "text": [
      "/var/folders/cj/rzmp7kfn4jg08km6g547jdsjk73ykr/T/ipykernel_2784/3451681922.py:1: UserWarning: \n",
      "\n",
      "`distplot` is a deprecated function and will be removed in seaborn v0.14.0.\n",
      "\n",
      "Please adapt your code to use either `displot` (a figure-level function with\n",
      "similar flexibility) or `kdeplot` (an axes-level function for kernel density plots).\n",
      "\n",
      "For a guide to updating your code to use the new functions, please see\n",
      "https://gist.github.com/mwaskom/de44147ed2974457ad6372750bbe5751\n",
      "\n",
      "  sns.distplot(dfm['val'], hist=False, kde=True, color='green', label = 'original')\n"
     ]
    },
    {
     "data": {
      "image/png": "[encoded data removed]",
      "text/plain": [
       "<Figure size 640x480 with 1 Axes>"
      ]
     },
     "metadata": {},
     "output_type": "display_data"
    }
   ],
   "source": [
    "sns.distplot(dfm['val'], hist=False, kde=True, color='green', label = 'original')\n",
    "#sns.distplot(fitted_data, hist=False, kde=True, color='red', label='transformed')\n",
    "plt.legend(loc='upper right')\n",
    "plt.show()"
   ]
  },
  {
   "cell_type": "markdown",
   "metadata": {},
   "source": [
    "# 2009 data \n",
    "\n",
    "The reason for this data is because there is a financial crisis in 2008. "
   ]
  },
  {
   "cell_type": "code",
   "execution_count": 224,
   "metadata": {},
   "outputs": [],
   "source": [
    "df = pd.read_csv('../DATA/mini_project_1_mental_disorder_cases_2009.csv')"
   ]
  },
  {
   "cell_type": "code",
   "execution_count": 225,
   "metadata": {},
   "outputs": [
    {
     "name": "stdout",
     "output_type": "stream",
     "text": [
      "<class 'pandas.core.frame.DataFrame'>\n",
      "RangeIndex: 204 entries, 0 to 203\n",
      "Data columns (total 10 columns):\n",
      " #   Column    Non-Null Count  Dtype  \n",
      "---  ------    --------------  -----  \n",
      " 0   measure   204 non-null    object \n",
      " 1   location  204 non-null    object \n",
      " 2   sex       204 non-null    object \n",
      " 3   age       204 non-null    object \n",
      " 4   cause     204 non-null    object \n",
      " 5   metric    204 non-null    object \n",
      " 6   year      204 non-null    int64  \n",
      " 7   val       204 non-null    float64\n",
      " 8   upper     204 non-null    float64\n",
      " 9   lower     204 non-null    float64\n",
      "dtypes: float64(3), int64(1), object(6)\n",
      "memory usage: 16.1+ KB\n"
     ]
    }
   ],
   "source": [
    "df.info()"
   ]
  },
  {
   "cell_type": "code",
   "execution_count": 227,
   "metadata": {},
   "outputs": [],
   "source": [
    "income = pd.read_csv('../DATA/mini_project_1_country_list_GNI_2009.csv')"
   ]
  },
  {
   "cell_type": "code",
   "execution_count": 228,
   "metadata": {},
   "outputs": [
    {
     "name": "stdout",
     "output_type": "stream",
     "text": [
      "<class 'pandas.core.frame.DataFrame'>\n",
      "RangeIndex: 218 entries, 0 to 217\n",
      "Data columns (total 3 columns):\n",
      " #   Column         Non-Null Count  Dtype \n",
      "---  ------         --------------  ----- \n",
      " 0   location_code  218 non-null    object\n",
      " 1   location       218 non-null    object\n",
      " 2   income_group   218 non-null    object\n",
      "dtypes: object(3)\n",
      "memory usage: 5.2+ KB\n"
     ]
    }
   ],
   "source": [
    "income.info()"
   ]
  },
  {
   "cell_type": "code",
   "execution_count": 229,
   "metadata": {},
   "outputs": [],
   "source": [
    "# Generate the country code in dp_rate\n",
    "countries={}\n",
    "\n",
    "for country in pycountry.countries:\n",
    "    countries[country.name] = country.alpha_3\n",
    "\n",
    "df['location_code'] = [countries.get(country, 'Unknown code') for country in df['location']]"
   ]
  },
  {
   "cell_type": "code",
   "execution_count": 230,
   "metadata": {},
   "outputs": [
    {
     "data": {
      "text/html": [
       "<div>\n",
       "<style scoped>\n",
       "    .dataframe tbody tr th:only-of-type {\n",
       "        vertical-align: middle;\n",
       "    }\n",
       "\n",
       "    .dataframe tbody tr th {\n",
       "        vertical-align: top;\n",
       "    }\n",
       "\n",
       "    .dataframe thead th {\n",
       "        text-align: right;\n",
       "    }\n",
       "</style>\n",
       "<table border=\"1\" class=\"dataframe\">\n",
       "  <thead>\n",
       "    <tr style=\"text-align: right;\">\n",
       "      <th></th>\n",
       "      <th>measure</th>\n",
       "      <th>location</th>\n",
       "      <th>sex</th>\n",
       "      <th>age</th>\n",
       "      <th>cause</th>\n",
       "      <th>metric</th>\n",
       "      <th>year</th>\n",
       "      <th>val</th>\n",
       "      <th>upper</th>\n",
       "      <th>lower</th>\n",
       "      <th>location_code</th>\n",
       "    </tr>\n",
       "  </thead>\n",
       "  <tbody>\n",
       "    <tr>\n",
       "      <th>0</th>\n",
       "      <td>Incidence</td>\n",
       "      <td>Bulgaria</td>\n",
       "      <td>Both</td>\n",
       "      <td>All ages</td>\n",
       "      <td>Mental disorders</td>\n",
       "      <td>Rate</td>\n",
       "      <td>2009</td>\n",
       "      <td>4291.890608</td>\n",
       "      <td>4844.300911</td>\n",
       "      <td>3820.579850</td>\n",
       "      <td>BGR</td>\n",
       "    </tr>\n",
       "    <tr>\n",
       "      <th>1</th>\n",
       "      <td>Incidence</td>\n",
       "      <td>Mongolia</td>\n",
       "      <td>Both</td>\n",
       "      <td>All ages</td>\n",
       "      <td>Mental disorders</td>\n",
       "      <td>Rate</td>\n",
       "      <td>2009</td>\n",
       "      <td>5135.432719</td>\n",
       "      <td>5879.411826</td>\n",
       "      <td>4479.589633</td>\n",
       "      <td>MNG</td>\n",
       "    </tr>\n",
       "    <tr>\n",
       "      <th>2</th>\n",
       "      <td>Incidence</td>\n",
       "      <td>Papua New Guinea</td>\n",
       "      <td>Both</td>\n",
       "      <td>All ages</td>\n",
       "      <td>Mental disorders</td>\n",
       "      <td>Rate</td>\n",
       "      <td>2009</td>\n",
       "      <td>3615.466532</td>\n",
       "      <td>4133.272594</td>\n",
       "      <td>3160.893563</td>\n",
       "      <td>PNG</td>\n",
       "    </tr>\n",
       "    <tr>\n",
       "      <th>3</th>\n",
       "      <td>Incidence</td>\n",
       "      <td>Kiribati</td>\n",
       "      <td>Both</td>\n",
       "      <td>All ages</td>\n",
       "      <td>Mental disorders</td>\n",
       "      <td>Rate</td>\n",
       "      <td>2009</td>\n",
       "      <td>3465.941231</td>\n",
       "      <td>3954.705318</td>\n",
       "      <td>3042.425565</td>\n",
       "      <td>KIR</td>\n",
       "    </tr>\n",
       "    <tr>\n",
       "      <th>4</th>\n",
       "      <td>Incidence</td>\n",
       "      <td>Timor-Leste</td>\n",
       "      <td>Both</td>\n",
       "      <td>All ages</td>\n",
       "      <td>Mental disorders</td>\n",
       "      <td>Rate</td>\n",
       "      <td>2009</td>\n",
       "      <td>3045.165610</td>\n",
       "      <td>3400.973949</td>\n",
       "      <td>2724.584347</td>\n",
       "      <td>TLS</td>\n",
       "    </tr>\n",
       "  </tbody>\n",
       "</table>\n",
       "</div>"
      ],
      "text/plain": [
       "     measure          location   sex       age             cause metric  year  \\\n",
       "0  Incidence          Bulgaria  Both  All ages  Mental disorders   Rate  2009   \n",
       "1  Incidence          Mongolia  Both  All ages  Mental disorders   Rate  2009   \n",
       "2  Incidence  Papua New Guinea  Both  All ages  Mental disorders   Rate  2009   \n",
       "3  Incidence          Kiribati  Both  All ages  Mental disorders   Rate  2009   \n",
       "4  Incidence       Timor-Leste  Both  All ages  Mental disorders   Rate  2009   \n",
       "\n",
       "           val        upper        lower location_code  \n",
       "0  4291.890608  4844.300911  3820.579850           BGR  \n",
       "1  5135.432719  5879.411826  4479.589633           MNG  \n",
       "2  3615.466532  4133.272594  3160.893563           PNG  \n",
       "3  3465.941231  3954.705318  3042.425565           KIR  \n",
       "4  3045.165610  3400.973949  2724.584347           TLS  "
      ]
     },
     "execution_count": 230,
     "metadata": {},
     "output_type": "execute_result"
    }
   ],
   "source": [
    "df.head()"
   ]
  },
  {
   "cell_type": "code",
   "execution_count": 232,
   "metadata": {},
   "outputs": [],
   "source": [
    "df.rename(columns={'val':'mental_disorder_rate'}, inplace=True)"
   ]
  },
  {
   "cell_type": "code",
   "execution_count": 233,
   "metadata": {},
   "outputs": [],
   "source": [
    "df_merge = pd.merge(df,income,how='inner',left_on='location_code', right_on='location_code')"
   ]
  },
  {
   "cell_type": "code",
   "execution_count": 234,
   "metadata": {},
   "outputs": [
    {
     "data": {
      "text/plain": [
       "(187, 13)"
      ]
     },
     "execution_count": 234,
     "metadata": {},
     "output_type": "execute_result"
    }
   ],
   "source": [
    "df_merge.shape"
   ]
  },
  {
   "cell_type": "code",
   "execution_count": 235,
   "metadata": {},
   "outputs": [
    {
     "data": {
      "text/html": [
       "<div>\n",
       "<style scoped>\n",
       "    .dataframe tbody tr th:only-of-type {\n",
       "        vertical-align: middle;\n",
       "    }\n",
       "\n",
       "    .dataframe tbody tr th {\n",
       "        vertical-align: top;\n",
       "    }\n",
       "\n",
       "    .dataframe thead th {\n",
       "        text-align: right;\n",
       "    }\n",
       "</style>\n",
       "<table border=\"1\" class=\"dataframe\">\n",
       "  <thead>\n",
       "    <tr style=\"text-align: right;\">\n",
       "      <th></th>\n",
       "      <th>measure</th>\n",
       "      <th>location_x</th>\n",
       "      <th>sex</th>\n",
       "      <th>age</th>\n",
       "      <th>cause</th>\n",
       "      <th>metric</th>\n",
       "      <th>year</th>\n",
       "      <th>mental_disorder_rate</th>\n",
       "      <th>upper</th>\n",
       "      <th>lower</th>\n",
       "      <th>location_code</th>\n",
       "      <th>location_y</th>\n",
       "      <th>income_group</th>\n",
       "    </tr>\n",
       "  </thead>\n",
       "  <tbody>\n",
       "    <tr>\n",
       "      <th>0</th>\n",
       "      <td>Incidence</td>\n",
       "      <td>Bulgaria</td>\n",
       "      <td>Both</td>\n",
       "      <td>All ages</td>\n",
       "      <td>Mental disorders</td>\n",
       "      <td>Rate</td>\n",
       "      <td>2009</td>\n",
       "      <td>4291.890608</td>\n",
       "      <td>4844.300911</td>\n",
       "      <td>3820.579850</td>\n",
       "      <td>BGR</td>\n",
       "      <td>Bulgaria</td>\n",
       "      <td>UM</td>\n",
       "    </tr>\n",
       "    <tr>\n",
       "      <th>1</th>\n",
       "      <td>Incidence</td>\n",
       "      <td>Mongolia</td>\n",
       "      <td>Both</td>\n",
       "      <td>All ages</td>\n",
       "      <td>Mental disorders</td>\n",
       "      <td>Rate</td>\n",
       "      <td>2009</td>\n",
       "      <td>5135.432719</td>\n",
       "      <td>5879.411826</td>\n",
       "      <td>4479.589633</td>\n",
       "      <td>MNG</td>\n",
       "      <td>Mongolia</td>\n",
       "      <td>LM</td>\n",
       "    </tr>\n",
       "    <tr>\n",
       "      <th>2</th>\n",
       "      <td>Incidence</td>\n",
       "      <td>Papua New Guinea</td>\n",
       "      <td>Both</td>\n",
       "      <td>All ages</td>\n",
       "      <td>Mental disorders</td>\n",
       "      <td>Rate</td>\n",
       "      <td>2009</td>\n",
       "      <td>3615.466532</td>\n",
       "      <td>4133.272594</td>\n",
       "      <td>3160.893563</td>\n",
       "      <td>PNG</td>\n",
       "      <td>Papua New Guinea</td>\n",
       "      <td>LM</td>\n",
       "    </tr>\n",
       "    <tr>\n",
       "      <th>3</th>\n",
       "      <td>Incidence</td>\n",
       "      <td>Kiribati</td>\n",
       "      <td>Both</td>\n",
       "      <td>All ages</td>\n",
       "      <td>Mental disorders</td>\n",
       "      <td>Rate</td>\n",
       "      <td>2009</td>\n",
       "      <td>3465.941231</td>\n",
       "      <td>3954.705318</td>\n",
       "      <td>3042.425565</td>\n",
       "      <td>KIR</td>\n",
       "      <td>Kiribati</td>\n",
       "      <td>LM</td>\n",
       "    </tr>\n",
       "    <tr>\n",
       "      <th>4</th>\n",
       "      <td>Incidence</td>\n",
       "      <td>Timor-Leste</td>\n",
       "      <td>Both</td>\n",
       "      <td>All ages</td>\n",
       "      <td>Mental disorders</td>\n",
       "      <td>Rate</td>\n",
       "      <td>2009</td>\n",
       "      <td>3045.165610</td>\n",
       "      <td>3400.973949</td>\n",
       "      <td>2724.584347</td>\n",
       "      <td>TLS</td>\n",
       "      <td>Timor-Leste</td>\n",
       "      <td>LM</td>\n",
       "    </tr>\n",
       "  </tbody>\n",
       "</table>\n",
       "</div>"
      ],
      "text/plain": [
       "     measure        location_x   sex       age             cause metric  year  \\\n",
       "0  Incidence          Bulgaria  Both  All ages  Mental disorders   Rate  2009   \n",
       "1  Incidence          Mongolia  Both  All ages  Mental disorders   Rate  2009   \n",
       "2  Incidence  Papua New Guinea  Both  All ages  Mental disorders   Rate  2009   \n",
       "3  Incidence          Kiribati  Both  All ages  Mental disorders   Rate  2009   \n",
       "4  Incidence       Timor-Leste  Both  All ages  Mental disorders   Rate  2009   \n",
       "\n",
       "   mental_disorder_rate        upper        lower location_code  \\\n",
       "0           4291.890608  4844.300911  3820.579850           BGR   \n",
       "1           5135.432719  5879.411826  4479.589633           MNG   \n",
       "2           3615.466532  4133.272594  3160.893563           PNG   \n",
       "3           3465.941231  3954.705318  3042.425565           KIR   \n",
       "4           3045.165610  3400.973949  2724.584347           TLS   \n",
       "\n",
       "         location_y income_group  \n",
       "0          Bulgaria           UM  \n",
       "1          Mongolia           LM  \n",
       "2  Papua New Guinea           LM  \n",
       "3          Kiribati           LM  \n",
       "4       Timor-Leste           LM  "
      ]
     },
     "execution_count": 235,
     "metadata": {},
     "output_type": "execute_result"
    }
   ],
   "source": [
    "df_merge.head()"
   ]
  },
  {
   "cell_type": "code",
   "execution_count": 239,
   "metadata": {},
   "outputs": [
    {
     "data": {
      "text/plain": [
       "measure                 0\n",
       "location_x              0\n",
       "sex                     0\n",
       "age                     0\n",
       "cause                   0\n",
       "metric                  0\n",
       "year                    0\n",
       "mental_disorder_rate    0\n",
       "upper                   0\n",
       "lower                   0\n",
       "location_code           0\n",
       "location_y              0\n",
       "income_group            0\n",
       "dtype: int64"
      ]
     },
     "execution_count": 239,
     "metadata": {},
     "output_type": "execute_result"
    }
   ],
   "source": [
    "df_merge.isna().sum()"
   ]
  },
  {
   "cell_type": "code",
   "execution_count": 240,
   "metadata": {},
   "outputs": [
    {
     "data": {
      "text/html": [
       "<div>\n",
       "<style scoped>\n",
       "    .dataframe tbody tr th:only-of-type {\n",
       "        vertical-align: middle;\n",
       "    }\n",
       "\n",
       "    .dataframe tbody tr th {\n",
       "        vertical-align: top;\n",
       "    }\n",
       "\n",
       "    .dataframe thead th {\n",
       "        text-align: right;\n",
       "    }\n",
       "</style>\n",
       "<table border=\"1\" class=\"dataframe\">\n",
       "  <thead>\n",
       "    <tr style=\"text-align: right;\">\n",
       "      <th></th>\n",
       "      <th>measure</th>\n",
       "      <th>location_x</th>\n",
       "      <th>sex</th>\n",
       "      <th>age</th>\n",
       "      <th>cause</th>\n",
       "      <th>metric</th>\n",
       "      <th>year</th>\n",
       "      <th>mental_disorder_rate</th>\n",
       "      <th>upper</th>\n",
       "      <th>lower</th>\n",
       "      <th>location_code</th>\n",
       "      <th>location_y</th>\n",
       "      <th>income_group</th>\n",
       "    </tr>\n",
       "  </thead>\n",
       "  <tbody>\n",
       "    <tr>\n",
       "      <th>172</th>\n",
       "      <td>Incidence</td>\n",
       "      <td>Nauru</td>\n",
       "      <td>Both</td>\n",
       "      <td>All ages</td>\n",
       "      <td>Mental disorders</td>\n",
       "      <td>Rate</td>\n",
       "      <td>2009</td>\n",
       "      <td>3613.104011</td>\n",
       "      <td>4286.546442</td>\n",
       "      <td>3043.957850</td>\n",
       "      <td>NRU</td>\n",
       "      <td>Nauru</td>\n",
       "      <td>..</td>\n",
       "    </tr>\n",
       "    <tr>\n",
       "      <th>184</th>\n",
       "      <td>Incidence</td>\n",
       "      <td>South Sudan</td>\n",
       "      <td>Both</td>\n",
       "      <td>All ages</td>\n",
       "      <td>Mental disorders</td>\n",
       "      <td>Rate</td>\n",
       "      <td>2009</td>\n",
       "      <td>4736.297594</td>\n",
       "      <td>5388.901291</td>\n",
       "      <td>4149.550057</td>\n",
       "      <td>SSD</td>\n",
       "      <td>South Sudan</td>\n",
       "      <td>..</td>\n",
       "    </tr>\n",
       "  </tbody>\n",
       "</table>\n",
       "</div>"
      ],
      "text/plain": [
       "       measure   location_x   sex       age             cause metric  year  \\\n",
       "172  Incidence        Nauru  Both  All ages  Mental disorders   Rate  2009   \n",
       "184  Incidence  South Sudan  Both  All ages  Mental disorders   Rate  2009   \n",
       "\n",
       "     mental_disorder_rate        upper        lower location_code  \\\n",
       "172           3613.104011  4286.546442  3043.957850           NRU   \n",
       "184           4736.297594  5388.901291  4149.550057           SSD   \n",
       "\n",
       "      location_y income_group  \n",
       "172        Nauru           ..  \n",
       "184  South Sudan           ..  "
      ]
     },
     "execution_count": 240,
     "metadata": {},
     "output_type": "execute_result"
    }
   ],
   "source": [
    "df_merge[df_merge['income_group'] == '..']"
   ]
  },
  {
   "cell_type": "code",
   "execution_count": 241,
   "metadata": {},
   "outputs": [],
   "source": [
    "df_merge = df_merge[df_merge['income_group'] != '..']"
   ]
  },
  {
   "cell_type": "code",
   "execution_count": 242,
   "metadata": {},
   "outputs": [
    {
     "data": {
      "text/html": [
       "<div>\n",
       "<style scoped>\n",
       "    .dataframe tbody tr th:only-of-type {\n",
       "        vertical-align: middle;\n",
       "    }\n",
       "\n",
       "    .dataframe tbody tr th {\n",
       "        vertical-align: top;\n",
       "    }\n",
       "\n",
       "    .dataframe thead th {\n",
       "        text-align: right;\n",
       "    }\n",
       "</style>\n",
       "<table border=\"1\" class=\"dataframe\">\n",
       "  <thead>\n",
       "    <tr style=\"text-align: right;\">\n",
       "      <th></th>\n",
       "      <th>measure</th>\n",
       "      <th>location_x</th>\n",
       "      <th>sex</th>\n",
       "      <th>age</th>\n",
       "      <th>cause</th>\n",
       "      <th>metric</th>\n",
       "      <th>year</th>\n",
       "      <th>mental_disorder_rate</th>\n",
       "      <th>upper</th>\n",
       "      <th>lower</th>\n",
       "      <th>location_code</th>\n",
       "      <th>location_y</th>\n",
       "      <th>income_group</th>\n",
       "    </tr>\n",
       "  </thead>\n",
       "  <tbody>\n",
       "    <tr>\n",
       "      <th>0</th>\n",
       "      <td>Incidence</td>\n",
       "      <td>Bulgaria</td>\n",
       "      <td>Both</td>\n",
       "      <td>All ages</td>\n",
       "      <td>Mental disorders</td>\n",
       "      <td>Rate</td>\n",
       "      <td>2009</td>\n",
       "      <td>4291.890608</td>\n",
       "      <td>4844.300911</td>\n",
       "      <td>3820.579850</td>\n",
       "      <td>BGR</td>\n",
       "      <td>Bulgaria</td>\n",
       "      <td>UM</td>\n",
       "    </tr>\n",
       "    <tr>\n",
       "      <th>1</th>\n",
       "      <td>Incidence</td>\n",
       "      <td>Mongolia</td>\n",
       "      <td>Both</td>\n",
       "      <td>All ages</td>\n",
       "      <td>Mental disorders</td>\n",
       "      <td>Rate</td>\n",
       "      <td>2009</td>\n",
       "      <td>5135.432719</td>\n",
       "      <td>5879.411826</td>\n",
       "      <td>4479.589633</td>\n",
       "      <td>MNG</td>\n",
       "      <td>Mongolia</td>\n",
       "      <td>LM</td>\n",
       "    </tr>\n",
       "    <tr>\n",
       "      <th>2</th>\n",
       "      <td>Incidence</td>\n",
       "      <td>Papua New Guinea</td>\n",
       "      <td>Both</td>\n",
       "      <td>All ages</td>\n",
       "      <td>Mental disorders</td>\n",
       "      <td>Rate</td>\n",
       "      <td>2009</td>\n",
       "      <td>3615.466532</td>\n",
       "      <td>4133.272594</td>\n",
       "      <td>3160.893563</td>\n",
       "      <td>PNG</td>\n",
       "      <td>Papua New Guinea</td>\n",
       "      <td>LM</td>\n",
       "    </tr>\n",
       "    <tr>\n",
       "      <th>3</th>\n",
       "      <td>Incidence</td>\n",
       "      <td>Kiribati</td>\n",
       "      <td>Both</td>\n",
       "      <td>All ages</td>\n",
       "      <td>Mental disorders</td>\n",
       "      <td>Rate</td>\n",
       "      <td>2009</td>\n",
       "      <td>3465.941231</td>\n",
       "      <td>3954.705318</td>\n",
       "      <td>3042.425565</td>\n",
       "      <td>KIR</td>\n",
       "      <td>Kiribati</td>\n",
       "      <td>LM</td>\n",
       "    </tr>\n",
       "    <tr>\n",
       "      <th>4</th>\n",
       "      <td>Incidence</td>\n",
       "      <td>Timor-Leste</td>\n",
       "      <td>Both</td>\n",
       "      <td>All ages</td>\n",
       "      <td>Mental disorders</td>\n",
       "      <td>Rate</td>\n",
       "      <td>2009</td>\n",
       "      <td>3045.165610</td>\n",
       "      <td>3400.973949</td>\n",
       "      <td>2724.584347</td>\n",
       "      <td>TLS</td>\n",
       "      <td>Timor-Leste</td>\n",
       "      <td>LM</td>\n",
       "    </tr>\n",
       "  </tbody>\n",
       "</table>\n",
       "</div>"
      ],
      "text/plain": [
       "     measure        location_x   sex       age             cause metric  year  \\\n",
       "0  Incidence          Bulgaria  Both  All ages  Mental disorders   Rate  2009   \n",
       "1  Incidence          Mongolia  Both  All ages  Mental disorders   Rate  2009   \n",
       "2  Incidence  Papua New Guinea  Both  All ages  Mental disorders   Rate  2009   \n",
       "3  Incidence          Kiribati  Both  All ages  Mental disorders   Rate  2009   \n",
       "4  Incidence       Timor-Leste  Both  All ages  Mental disorders   Rate  2009   \n",
       "\n",
       "   mental_disorder_rate        upper        lower location_code  \\\n",
       "0           4291.890608  4844.300911  3820.579850           BGR   \n",
       "1           5135.432719  5879.411826  4479.589633           MNG   \n",
       "2           3615.466532  4133.272594  3160.893563           PNG   \n",
       "3           3465.941231  3954.705318  3042.425565           KIR   \n",
       "4           3045.165610  3400.973949  2724.584347           TLS   \n",
       "\n",
       "         location_y income_group  \n",
       "0          Bulgaria           UM  \n",
       "1          Mongolia           LM  \n",
       "2  Papua New Guinea           LM  \n",
       "3          Kiribati           LM  \n",
       "4       Timor-Leste           LM  "
      ]
     },
     "execution_count": 242,
     "metadata": {},
     "output_type": "execute_result"
    }
   ],
   "source": [
    "df_merge.head()"
   ]
  },
  {
   "cell_type": "code",
   "execution_count": 243,
   "metadata": {},
   "outputs": [
    {
     "data": {
      "text/plain": [
       "(185, 13)"
      ]
     },
     "execution_count": 243,
     "metadata": {},
     "output_type": "execute_result"
    }
   ],
   "source": [
    "df_merge.shape"
   ]
  },
  {
   "cell_type": "code",
   "execution_count": 244,
   "metadata": {},
   "outputs": [
    {
     "data": {
      "text/plain": [
       "<Axes: xlabel='mental_disorder_rate', ylabel='Density'>"
      ]
     },
     "execution_count": 244,
     "metadata": {},
     "output_type": "execute_result"
    },
    {
     "data": {
      "image/png": "[encoded data removed]",
      "text/plain": [
       "<Figure size 640x480 with 1 Axes>"
      ]
     },
     "metadata": {},
     "output_type": "display_data"
    }
   ],
   "source": [
    "sns.kdeplot(df_merge['mental_disorder_rate'])"
   ]
  },
  {
   "cell_type": "code",
   "execution_count": 245,
   "metadata": {},
   "outputs": [
    {
     "data": {
      "text/plain": [
       "<Axes: xlabel='income_group', ylabel='mental_disorder_rate'>"
      ]
     },
     "execution_count": 245,
     "metadata": {},
     "output_type": "execute_result"
    },
    {
     "data": {
      "image/png": "[encoded data removed]",
      "text/plain": [
       "<Figure size 640x480 with 1 Axes>"
      ]
     },
     "metadata": {},
     "output_type": "display_data"
    }
   ],
   "source": [
    "sns.boxplot(data=df_merge, x='income_group', y='mental_disorder_rate')"
   ]
  },
  {
   "cell_type": "code",
   "execution_count": 247,
   "metadata": {},
   "outputs": [
    {
     "name": "stdout",
     "output_type": "stream",
     "text": [
      "7.984614703380496 4.993541068951013e-05\n"
     ]
    }
   ],
   "source": [
    "fvalue, pvalue = f_oneway(df_merge[df_merge['income_group'] == 'L']['log_transform'],\n",
    "         df_merge[df_merge['income_group'] == 'LM']['log_transform'],\n",
    "         df_merge[df_merge['income_group'] == 'UM']['log_transform'],\n",
    "         df_merge[df_merge['income_group'] == 'H']['log_transform'],)\n",
    "\n",
    "print(fvalue, pvalue)"
   ]
  },
  {
   "cell_type": "code",
   "execution_count": 248,
   "metadata": {},
   "outputs": [],
   "source": [
    "tukey = pairwise_tukeyhsd(endog=df_merge['mental_disorder_rate'], groups=df_merge['income_group'], alpha=0.05)"
   ]
  },
  {
   "cell_type": "code",
   "execution_count": 249,
   "metadata": {},
   "outputs": [
    {
     "name": "stdout",
     "output_type": "stream",
     "text": [
      "    Multiple Comparison of Means - Tukey HSD, FWER=0.05    \n",
      "===========================================================\n",
      "group1 group2  meandiff  p-adj    lower      upper   reject\n",
      "-----------------------------------------------------------\n",
      "     H      L -1119.1689 0.0002 -1810.3982 -427.9397   True\n",
      "     H     LM -1002.8149 0.0003 -1635.7122 -369.9175   True\n",
      "     H     UM  -735.1929 0.0218 -1393.2465  -77.1394   True\n",
      "     L     LM   116.3541 0.9727  -580.4249   813.133  False\n",
      "     L     UM    383.976 0.5113  -335.7297 1103.6818  False\n",
      "    LM     UM    267.622  0.723  -396.2587  931.5026  False\n",
      "-----------------------------------------------------------\n"
     ]
    }
   ],
   "source": [
    "print(tukey)"
   ]
  },
  {
   "cell_type": "code",
   "execution_count": 250,
   "metadata": {},
   "outputs": [],
   "source": [
    "#Dataset for working age\n",
    "df = pd.read_csv('../DATA/mini_project_1_mental_disorder_2009_working_age.csv')"
   ]
  },
  {
   "cell_type": "code",
   "execution_count": 251,
   "metadata": {},
   "outputs": [
    {
     "data": {
      "text/html": [
       "<div>\n",
       "<style scoped>\n",
       "    .dataframe tbody tr th:only-of-type {\n",
       "        vertical-align: middle;\n",
       "    }\n",
       "\n",
       "    .dataframe tbody tr th {\n",
       "        vertical-align: top;\n",
       "    }\n",
       "\n",
       "    .dataframe thead th {\n",
       "        text-align: right;\n",
       "    }\n",
       "</style>\n",
       "<table border=\"1\" class=\"dataframe\">\n",
       "  <thead>\n",
       "    <tr style=\"text-align: right;\">\n",
       "      <th></th>\n",
       "      <th>measure</th>\n",
       "      <th>location</th>\n",
       "      <th>sex</th>\n",
       "      <th>age</th>\n",
       "      <th>cause</th>\n",
       "      <th>metric</th>\n",
       "      <th>year</th>\n",
       "      <th>val</th>\n",
       "      <th>upper</th>\n",
       "      <th>lower</th>\n",
       "    </tr>\n",
       "  </thead>\n",
       "  <tbody>\n",
       "    <tr>\n",
       "      <th>0</th>\n",
       "      <td>Incidence</td>\n",
       "      <td>Cambodia</td>\n",
       "      <td>Both</td>\n",
       "      <td>20-24 years</td>\n",
       "      <td>Mental disorders</td>\n",
       "      <td>Rate</td>\n",
       "      <td>2009</td>\n",
       "      <td>4943.133082</td>\n",
       "      <td>6489.329427</td>\n",
       "      <td>3643.465356</td>\n",
       "    </tr>\n",
       "    <tr>\n",
       "      <th>1</th>\n",
       "      <td>Incidence</td>\n",
       "      <td>Cambodia</td>\n",
       "      <td>Both</td>\n",
       "      <td>25-29 years</td>\n",
       "      <td>Mental disorders</td>\n",
       "      <td>Rate</td>\n",
       "      <td>2009</td>\n",
       "      <td>4282.619817</td>\n",
       "      <td>5623.525453</td>\n",
       "      <td>3338.313651</td>\n",
       "    </tr>\n",
       "    <tr>\n",
       "      <th>2</th>\n",
       "      <td>Incidence</td>\n",
       "      <td>Cambodia</td>\n",
       "      <td>Both</td>\n",
       "      <td>30-34 years</td>\n",
       "      <td>Mental disorders</td>\n",
       "      <td>Rate</td>\n",
       "      <td>2009</td>\n",
       "      <td>4040.878366</td>\n",
       "      <td>5256.738445</td>\n",
       "      <td>3157.432072</td>\n",
       "    </tr>\n",
       "    <tr>\n",
       "      <th>3</th>\n",
       "      <td>Incidence</td>\n",
       "      <td>Cambodia</td>\n",
       "      <td>Both</td>\n",
       "      <td>35-39 years</td>\n",
       "      <td>Mental disorders</td>\n",
       "      <td>Rate</td>\n",
       "      <td>2009</td>\n",
       "      <td>4231.838195</td>\n",
       "      <td>5333.323483</td>\n",
       "      <td>3306.022971</td>\n",
       "    </tr>\n",
       "    <tr>\n",
       "      <th>4</th>\n",
       "      <td>Incidence</td>\n",
       "      <td>Cambodia</td>\n",
       "      <td>Both</td>\n",
       "      <td>40-44 years</td>\n",
       "      <td>Mental disorders</td>\n",
       "      <td>Rate</td>\n",
       "      <td>2009</td>\n",
       "      <td>4363.024367</td>\n",
       "      <td>5568.770433</td>\n",
       "      <td>3315.198252</td>\n",
       "    </tr>\n",
       "  </tbody>\n",
       "</table>\n",
       "</div>"
      ],
      "text/plain": [
       "     measure  location   sex          age             cause metric  year  \\\n",
       "0  Incidence  Cambodia  Both  20-24 years  Mental disorders   Rate  2009   \n",
       "1  Incidence  Cambodia  Both  25-29 years  Mental disorders   Rate  2009   \n",
       "2  Incidence  Cambodia  Both  30-34 years  Mental disorders   Rate  2009   \n",
       "3  Incidence  Cambodia  Both  35-39 years  Mental disorders   Rate  2009   \n",
       "4  Incidence  Cambodia  Both  40-44 years  Mental disorders   Rate  2009   \n",
       "\n",
       "           val        upper        lower  \n",
       "0  4943.133082  6489.329427  3643.465356  \n",
       "1  4282.619817  5623.525453  3338.313651  \n",
       "2  4040.878366  5256.738445  3157.432072  \n",
       "3  4231.838195  5333.323483  3306.022971  \n",
       "4  4363.024367  5568.770433  3315.198252  "
      ]
     },
     "execution_count": 251,
     "metadata": {},
     "output_type": "execute_result"
    }
   ],
   "source": [
    "df.head()"
   ]
  },
  {
   "cell_type": "code",
   "execution_count": 260,
   "metadata": {},
   "outputs": [],
   "source": [
    "df_a = pd.DataFrame(df.groupby(by='location')['val'].mean('val')).reset_index()"
   ]
  },
  {
   "cell_type": "code",
   "execution_count": 263,
   "metadata": {},
   "outputs": [
    {
     "data": {
      "text/plain": [
       "0                             Afghanistan\n",
       "1                                 Albania\n",
       "2                                 Algeria\n",
       "3                          American Samoa\n",
       "4                                 Andorra\n",
       "                      ...                \n",
       "199    Venezuela (Bolivarian Republic of)\n",
       "200                              Viet Nam\n",
       "201                                 Yemen\n",
       "202                                Zambia\n",
       "203                              Zimbabwe\n",
       "Name: location, Length: 204, dtype: object"
      ]
     },
     "execution_count": 263,
     "metadata": {},
     "output_type": "execute_result"
    }
   ],
   "source": [
    "df_a['location']"
   ]
  },
  {
   "cell_type": "code",
   "execution_count": 264,
   "metadata": {},
   "outputs": [],
   "source": [
    "# Generate the country code in df\n",
    "countries={}\n",
    "\n",
    "for country in pycountry.countries:\n",
    "    countries[country.name] = country.alpha_3\n",
    "\n",
    "df_a['location_code'] = [countries.get(country, 'Unknown code') for country in df_a['location']]"
   ]
  },
  {
   "cell_type": "code",
   "execution_count": 265,
   "metadata": {},
   "outputs": [
    {
     "data": {
      "text/html": [
       "<div>\n",
       "<style scoped>\n",
       "    .dataframe tbody tr th:only-of-type {\n",
       "        vertical-align: middle;\n",
       "    }\n",
       "\n",
       "    .dataframe tbody tr th {\n",
       "        vertical-align: top;\n",
       "    }\n",
       "\n",
       "    .dataframe thead th {\n",
       "        text-align: right;\n",
       "    }\n",
       "</style>\n",
       "<table border=\"1\" class=\"dataframe\">\n",
       "  <thead>\n",
       "    <tr style=\"text-align: right;\">\n",
       "      <th></th>\n",
       "      <th>location</th>\n",
       "      <th>val</th>\n",
       "      <th>location_code</th>\n",
       "    </tr>\n",
       "  </thead>\n",
       "  <tbody>\n",
       "    <tr>\n",
       "      <th>0</th>\n",
       "      <td>Afghanistan</td>\n",
       "      <td>9573.608160</td>\n",
       "      <td>AFG</td>\n",
       "    </tr>\n",
       "    <tr>\n",
       "      <th>1</th>\n",
       "      <td>Albania</td>\n",
       "      <td>3699.144534</td>\n",
       "      <td>ALB</td>\n",
       "    </tr>\n",
       "    <tr>\n",
       "      <th>2</th>\n",
       "      <td>Algeria</td>\n",
       "      <td>7390.548274</td>\n",
       "      <td>DZA</td>\n",
       "    </tr>\n",
       "    <tr>\n",
       "      <th>3</th>\n",
       "      <td>American Samoa</td>\n",
       "      <td>3578.759956</td>\n",
       "      <td>ASM</td>\n",
       "    </tr>\n",
       "    <tr>\n",
       "      <th>4</th>\n",
       "      <td>Andorra</td>\n",
       "      <td>6177.467559</td>\n",
       "      <td>AND</td>\n",
       "    </tr>\n",
       "    <tr>\n",
       "      <th>...</th>\n",
       "      <td>...</td>\n",
       "      <td>...</td>\n",
       "      <td>...</td>\n",
       "    </tr>\n",
       "    <tr>\n",
       "      <th>199</th>\n",
       "      <td>Venezuela (Bolivarian Republic of)</td>\n",
       "      <td>5810.770540</td>\n",
       "      <td>Unknown code</td>\n",
       "    </tr>\n",
       "    <tr>\n",
       "      <th>200</th>\n",
       "      <td>Viet Nam</td>\n",
       "      <td>3180.469318</td>\n",
       "      <td>VNM</td>\n",
       "    </tr>\n",
       "    <tr>\n",
       "      <th>201</th>\n",
       "      <td>Yemen</td>\n",
       "      <td>9406.346378</td>\n",
       "      <td>YEM</td>\n",
       "    </tr>\n",
       "    <tr>\n",
       "      <th>202</th>\n",
       "      <td>Zambia</td>\n",
       "      <td>6546.087903</td>\n",
       "      <td>ZMB</td>\n",
       "    </tr>\n",
       "    <tr>\n",
       "      <th>203</th>\n",
       "      <td>Zimbabwe</td>\n",
       "      <td>4919.876813</td>\n",
       "      <td>ZWE</td>\n",
       "    </tr>\n",
       "  </tbody>\n",
       "</table>\n",
       "<p>204 rows × 3 columns</p>\n",
       "</div>"
      ],
      "text/plain": [
       "                               location          val location_code\n",
       "0                           Afghanistan  9573.608160           AFG\n",
       "1                               Albania  3699.144534           ALB\n",
       "2                               Algeria  7390.548274           DZA\n",
       "3                        American Samoa  3578.759956           ASM\n",
       "4                               Andorra  6177.467559           AND\n",
       "..                                  ...          ...           ...\n",
       "199  Venezuela (Bolivarian Republic of)  5810.770540  Unknown code\n",
       "200                            Viet Nam  3180.469318           VNM\n",
       "201                               Yemen  9406.346378           YEM\n",
       "202                              Zambia  6546.087903           ZMB\n",
       "203                            Zimbabwe  4919.876813           ZWE\n",
       "\n",
       "[204 rows x 3 columns]"
      ]
     },
     "execution_count": 265,
     "metadata": {},
     "output_type": "execute_result"
    }
   ],
   "source": [
    "df_a"
   ]
  },
  {
   "cell_type": "code",
   "execution_count": 266,
   "metadata": {},
   "outputs": [
    {
     "data": {
      "text/plain": [
       "<Axes: xlabel='val', ylabel='Density'>"
      ]
     },
     "execution_count": 266,
     "metadata": {},
     "output_type": "execute_result"
    },
    {
     "data": {
      "image/png": "[encoded data removed]",
      "text/plain": [
       "<Figure size 640x480 with 1 Axes>"
      ]
     },
     "metadata": {},
     "output_type": "display_data"
    }
   ],
   "source": [
    "sns.kdeplot(df_a['val'])"
   ]
  },
  {
   "cell_type": "code",
   "execution_count": 267,
   "metadata": {},
   "outputs": [],
   "source": [
    "fix_country = {'10':'PRK',\n",
    "               '27':'FSM',\n",
    "               '28':'TWN',\n",
    "               '62':'KOR',\n",
    "               '66':'MDA',\n",
    "               '95':'USA',\n",
    "               '107':'BOL',\n",
    "               '119':'PSE',\n",
    "               '121':'IRN',\n",
    "               '129':'TUR',\n",
    "               '130':'VEN',\n",
    "               '141':'TZA',\n",
    "               '153':'COD',\n",
    "               '195':'VIR'}\n",
    "\n",
    "for key, country in fix_country.items():\n",
    "    if df_a.loc[int(key), 'location_code'] == 'Unknown code':\n",
    "        df_a.loc[int(key),'location_code'] = country\n",
    "    #print(key, country)"
   ]
  },
  {
   "cell_type": "code",
   "execution_count": 268,
   "metadata": {},
   "outputs": [],
   "source": [
    "#Merge #plot\n",
    "df_merge = pd.merge(df_a,income,how='left',left_on='location_code', right_on='location_code')"
   ]
  },
  {
   "cell_type": "code",
   "execution_count": 269,
   "metadata": {},
   "outputs": [
    {
     "name": "stderr",
     "output_type": "stream",
     "text": [
      "/var/folders/cj/rzmp7kfn4jg08km6g547jdsjk73ykr/T/ipykernel_2784/3392349130.py:4: UserWarning: set_ticklabels() should only be used with a fixed number of ticks, i.e. after set_ticks() or using a FixedLocator.\n",
      "  ax.set_xticklabels(['Low','Lower-Medium','Uper-Medium','High'])\n"
     ]
    },
    {
     "data": {
      "image/png": "[encoded data removed]",
      "text/plain": [
       "<Figure size 800x600 with 1 Axes>"
      ]
     },
     "metadata": {},
     "output_type": "display_data"
    }
   ],
   "source": [
    "fig, axes = plt.subplots(figsize=(8,6))\n",
    "#sns.set(font_scale=1)\n",
    "ax = sns.boxplot(data=df_merge, x='income_group', y='val', hue='income_group', order=['L','LM','UM','H'], palette='pastel')\n",
    "ax.set_xticklabels(['Low','Lower-Medium','Uper-Medium','High'])\n",
    "ax.set_xlabel('World Bank Income Group', fontdict=dict(weight='bold'))\n",
    "ax.set_ylabel('Log-transformed - mental disorder case per 100k')\n",
    "plt.savefig('image_2_boxplot.png')"
   ]
  },
  {
   "cell_type": "code",
   "execution_count": 273,
   "metadata": {},
   "outputs": [
    {
     "data": {
      "text/html": [
       "<div>\n",
       "<style scoped>\n",
       "    .dataframe tbody tr th:only-of-type {\n",
       "        vertical-align: middle;\n",
       "    }\n",
       "\n",
       "    .dataframe tbody tr th {\n",
       "        vertical-align: top;\n",
       "    }\n",
       "\n",
       "    .dataframe thead th {\n",
       "        text-align: right;\n",
       "    }\n",
       "</style>\n",
       "<table border=\"1\" class=\"dataframe\">\n",
       "  <thead>\n",
       "    <tr style=\"text-align: right;\">\n",
       "      <th></th>\n",
       "      <th>location_x</th>\n",
       "      <th>val</th>\n",
       "      <th>location_code</th>\n",
       "      <th>location_y</th>\n",
       "      <th>income_group</th>\n",
       "    </tr>\n",
       "  </thead>\n",
       "  <tbody>\n",
       "    <tr>\n",
       "      <th>0</th>\n",
       "      <td>Afghanistan</td>\n",
       "      <td>9573.608160</td>\n",
       "      <td>AFG</td>\n",
       "      <td>Afghanistan</td>\n",
       "      <td>L</td>\n",
       "    </tr>\n",
       "    <tr>\n",
       "      <th>1</th>\n",
       "      <td>Albania</td>\n",
       "      <td>3699.144534</td>\n",
       "      <td>ALB</td>\n",
       "      <td>Albania</td>\n",
       "      <td>UM</td>\n",
       "    </tr>\n",
       "    <tr>\n",
       "      <th>2</th>\n",
       "      <td>Algeria</td>\n",
       "      <td>7390.548274</td>\n",
       "      <td>DZA</td>\n",
       "      <td>Algeria</td>\n",
       "      <td>UM</td>\n",
       "    </tr>\n",
       "    <tr>\n",
       "      <th>3</th>\n",
       "      <td>American Samoa</td>\n",
       "      <td>3578.759956</td>\n",
       "      <td>ASM</td>\n",
       "      <td>American Samoa</td>\n",
       "      <td>UM</td>\n",
       "    </tr>\n",
       "    <tr>\n",
       "      <th>4</th>\n",
       "      <td>Andorra</td>\n",
       "      <td>6177.467559</td>\n",
       "      <td>AND</td>\n",
       "      <td>Andorra</td>\n",
       "      <td>H</td>\n",
       "    </tr>\n",
       "  </tbody>\n",
       "</table>\n",
       "</div>"
      ],
      "text/plain": [
       "       location_x          val location_code      location_y income_group\n",
       "0     Afghanistan  9573.608160           AFG     Afghanistan            L\n",
       "1         Albania  3699.144534           ALB         Albania           UM\n",
       "2         Algeria  7390.548274           DZA         Algeria           UM\n",
       "3  American Samoa  3578.759956           ASM  American Samoa           UM\n",
       "4         Andorra  6177.467559           AND         Andorra            H"
      ]
     },
     "execution_count": 273,
     "metadata": {},
     "output_type": "execute_result"
    }
   ],
   "source": [
    "df_merge.head()"
   ]
  },
  {
   "cell_type": "code",
   "execution_count": 274,
   "metadata": {},
   "outputs": [
    {
     "name": "stdout",
     "output_type": "stream",
     "text": [
      "<class 'pandas.core.frame.DataFrame'>\n",
      "RangeIndex: 204 entries, 0 to 203\n",
      "Data columns (total 5 columns):\n",
      " #   Column         Non-Null Count  Dtype  \n",
      "---  ------         --------------  -----  \n",
      " 0   location_x     204 non-null    object \n",
      " 1   val            204 non-null    float64\n",
      " 2   location_code  204 non-null    object \n",
      " 3   location_y     188 non-null    object \n",
      " 4   income_group   188 non-null    object \n",
      "dtypes: float64(1), object(4)\n",
      "memory usage: 8.1+ KB\n"
     ]
    }
   ],
   "source": [
    "df_merge.info()"
   ]
  },
  {
   "cell_type": "code",
   "execution_count": 281,
   "metadata": {},
   "outputs": [],
   "source": [
    "df_merge.dropna(axis=0, inplace=True)"
   ]
  },
  {
   "cell_type": "code",
   "execution_count": 283,
   "metadata": {},
   "outputs": [
    {
     "data": {
      "text/plain": [
       "(188, 5)"
      ]
     },
     "execution_count": 283,
     "metadata": {},
     "output_type": "execute_result"
    }
   ],
   "source": [
    "df_merge.shape"
   ]
  },
  {
   "cell_type": "code",
   "execution_count": 286,
   "metadata": {},
   "outputs": [],
   "source": [
    "df_merge = df_merge[df_merge['income_group'] != '..']"
   ]
  },
  {
   "cell_type": "code",
   "execution_count": 287,
   "metadata": {},
   "outputs": [
    {
     "name": "stdout",
     "output_type": "stream",
     "text": [
      "3.5530754923576806 0.01554721924714565\n"
     ]
    }
   ],
   "source": [
    "fvalue, pvalue = f_oneway(df_merge[df_merge['income_group'] == 'L']['val'],\n",
    "         df_merge[df_merge['income_group'] == 'LM']['val'],\n",
    "         df_merge[df_merge['income_group'] == 'UM']['val'],\n",
    "         df_merge[df_merge['income_group'] == 'H']['val'],)\n",
    "\n",
    "print(fvalue, pvalue)"
   ]
  },
  {
   "cell_type": "code",
   "execution_count": 288,
   "metadata": {},
   "outputs": [
    {
     "data": {
      "text/plain": [
       "array(['L', 'UM', 'H', 'LM'], dtype=object)"
      ]
     },
     "execution_count": 288,
     "metadata": {},
     "output_type": "execute_result"
    }
   ],
   "source": [
    "df_merge['income_group'].unique()"
   ]
  },
  {
   "cell_type": "code",
   "execution_count": 289,
   "metadata": {},
   "outputs": [
    {
     "name": "stdout",
     "output_type": "stream",
     "text": [
      "    Multiple Comparison of Means - Tukey HSD, FWER=0.05    \n",
      "===========================================================\n",
      "group1 group2  meandiff  p-adj    lower      upper   reject\n",
      "-----------------------------------------------------------\n",
      "     H      L   745.8573 0.2559  -302.5383 1794.2528  False\n",
      "     H     LM  -183.1082 0.9601 -1142.3208  776.1044  False\n",
      "     H     UM  -609.8154 0.3898 -1607.4972  387.8663  False\n",
      "     L     LM  -928.9655 0.1088 -1989.8243  131.8934  False\n",
      "     L     UM -1355.6727 0.0085 -2451.4379 -259.9075   True\n",
      "    LM     UM  -426.7072 0.6933 -1437.4778  584.0633  False\n",
      "-----------------------------------------------------------\n"
     ]
    }
   ],
   "source": [
    "tukey = pairwise_tukeyhsd(endog=df_merge['val'], groups=df_merge['income_group'], alpha=0.05)\n",
    "print(tukey)"
   ]
  }
 ],
 "metadata": {
  "kernelspec": {
   "display_name": "iod",
   "language": "python",
   "name": "python3"
  },
  "language_info": {
   "codemirror_mode": {
    "name": "ipython",
    "version": 3
   },
   "file_extension": ".py",
   "mimetype": "text/x-python",
   "name": "python",
   "nbconvert_exporter": "python",
   "pygments_lexer": "ipython3",
   "version": "3.12.1"
  }
 },
 "nbformat": 4,
 "nbformat_minor": 2
}
